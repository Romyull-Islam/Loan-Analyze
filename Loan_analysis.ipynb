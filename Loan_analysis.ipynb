{
  "nbformat": 4,
  "nbformat_minor": 0,
  "metadata": {
    "kernelspec": {
      "display_name": "Python [default]",
      "language": "python",
      "name": "python3"
    },
    "language_info": {
      "codemirror_mode": {
        "name": "ipython",
        "version": 3
      },
      "file_extension": ".py",
      "mimetype": "text/x-python",
      "name": "python",
      "nbconvert_exporter": "python",
      "pygments_lexer": "ipython3",
      "version": "3.5.4"
    },
    "colab": {
      "name": "Loan analysis.ipynb",
      "provenance": [],
      "toc_visible": true
    }
  },
  "cells": [
    {
      "cell_type": "markdown",
      "metadata": {
        "id": "8kDTsZYiG8Lj",
        "colab_type": "text"
      },
      "source": [
        "# Lending Club Default Analysis\n",
        "\n",
        "The analysis is divided into four main parts:\n",
        "1. Data understanding \n",
        "2. Data cleaning (cleaning missing values, removing redundant columns etc.)\n",
        "3. Data Analysis \n",
        "4. Recommendations\n"
      ]
    },
    {
      "cell_type": "code",
      "metadata": {
        "id": "Jk9p_9MvG8Lm",
        "colab_type": "code",
        "colab": {
          "base_uri": "https://localhost:8080/",
          "height": 71
        },
        "outputId": "7402570b-4a9a-4a12-a7ee-7f766eafc171"
      },
      "source": [
        "import numpy as np\n",
        "import pandas as pd\n",
        "import matplotlib.pyplot as plt\n",
        "import seaborn as sns\n",
        "\n"
      ],
      "execution_count": null,
      "outputs": [
        {
          "output_type": "stream",
          "text": [
            "/usr/local/lib/python3.6/dist-packages/statsmodels/tools/_testing.py:19: FutureWarning: pandas.util.testing is deprecated. Use the functions in the public API at pandas.testing instead.\n",
            "  import pandas.util.testing as tm\n"
          ],
          "name": "stderr"
        }
      ]
    },
    {
      "cell_type": "markdown",
      "metadata": {
        "id": "pBMR-RBsw-VN",
        "colab_type": "text"
      },
      "source": [
        "# New Section"
      ]
    },
    {
      "cell_type": "code",
      "metadata": {
        "id": "zyslkQVUxAsk",
        "colab_type": "code",
        "colab": {
          "base_uri": "https://localhost:8080/",
          "height": 54
        },
        "outputId": "9f0f12a0-be49-4c66-b0da-e09462fd85d5"
      },
      "source": [
        "from google.colab import drive\n",
        "drive.mount('/content/drive')"
      ],
      "execution_count": null,
      "outputs": [
        {
          "output_type": "stream",
          "text": [
            "Drive already mounted at /content/drive; to attempt to forcibly remount, call drive.mount(\"/content/drive\", force_remount=True).\n"
          ],
          "name": "stdout"
        }
      ]
    },
    {
      "cell_type": "code",
      "metadata": {
        "id": "QIW92o5Sxz-l",
        "colab_type": "code",
        "colab": {
          "base_uri": "https://localhost:8080/",
          "height": 156
        },
        "outputId": "826ffa8f-468e-4ec4-bfd4-ac94c60523ae"
      },
      "source": [
        "loan = pd.read_csv(\"/content/drive/My Drive/Colab Notebooks/Loan analysis/loan.csv\", sep=\",\")\n",
        "loan.info()"
      ],
      "execution_count": null,
      "outputs": [
        {
          "output_type": "stream",
          "text": [
            "<class 'pandas.core.frame.DataFrame'>\n",
            "RangeIndex: 39717 entries, 0 to 39716\n",
            "Columns: 111 entries, id to total_il_high_credit_limit\n",
            "dtypes: float64(74), int64(13), object(24)\n",
            "memory usage: 33.6+ MB\n"
          ],
          "name": "stdout"
        },
        {
          "output_type": "stream",
          "text": [
            "/usr/local/lib/python3.6/dist-packages/IPython/core/interactiveshell.py:2718: DtypeWarning: Columns (47) have mixed types.Specify dtype option on import or set low_memory=False.\n",
            "  interactivity=interactivity, compiler=compiler, result=result)\n"
          ],
          "name": "stderr"
        }
      ]
    },
    {
      "cell_type": "markdown",
      "metadata": {
        "id": "COHjAB-fG8L0",
        "colab_type": "text"
      },
      "source": [
        "## Data Understanding"
      ]
    },
    {
      "cell_type": "code",
      "metadata": {
        "id": "Jg5fykXfG8L2",
        "colab_type": "code",
        "colab": {
          "base_uri": "https://localhost:8080/",
          "height": 695
        },
        "outputId": "bae5bfe3-e937-45a6-e4dd-4a23290e40fe"
      },
      "source": [
        "# let's look at the first few rows of the df\n",
        "loan.head()"
      ],
      "execution_count": null,
      "outputs": [
        {
          "output_type": "execute_result",
          "data": {
            "text/html": [
              "<div>\n",
              "<style scoped>\n",
              "    .dataframe tbody tr th:only-of-type {\n",
              "        vertical-align: middle;\n",
              "    }\n",
              "\n",
              "    .dataframe tbody tr th {\n",
              "        vertical-align: top;\n",
              "    }\n",
              "\n",
              "    .dataframe thead th {\n",
              "        text-align: right;\n",
              "    }\n",
              "</style>\n",
              "<table border=\"1\" class=\"dataframe\">\n",
              "  <thead>\n",
              "    <tr style=\"text-align: right;\">\n",
              "      <th></th>\n",
              "      <th>id</th>\n",
              "      <th>member_id</th>\n",
              "      <th>loan_amnt</th>\n",
              "      <th>funded_amnt</th>\n",
              "      <th>funded_amnt_inv</th>\n",
              "      <th>term</th>\n",
              "      <th>int_rate</th>\n",
              "      <th>installment</th>\n",
              "      <th>grade</th>\n",
              "      <th>sub_grade</th>\n",
              "      <th>emp_title</th>\n",
              "      <th>emp_length</th>\n",
              "      <th>home_ownership</th>\n",
              "      <th>annual_inc</th>\n",
              "      <th>verification_status</th>\n",
              "      <th>issue_d</th>\n",
              "      <th>loan_status</th>\n",
              "      <th>pymnt_plan</th>\n",
              "      <th>url</th>\n",
              "      <th>desc</th>\n",
              "      <th>purpose</th>\n",
              "      <th>title</th>\n",
              "      <th>zip_code</th>\n",
              "      <th>addr_state</th>\n",
              "      <th>dti</th>\n",
              "      <th>delinq_2yrs</th>\n",
              "      <th>earliest_cr_line</th>\n",
              "      <th>inq_last_6mths</th>\n",
              "      <th>mths_since_last_delinq</th>\n",
              "      <th>mths_since_last_record</th>\n",
              "      <th>open_acc</th>\n",
              "      <th>pub_rec</th>\n",
              "      <th>revol_bal</th>\n",
              "      <th>revol_util</th>\n",
              "      <th>total_acc</th>\n",
              "      <th>initial_list_status</th>\n",
              "      <th>out_prncp</th>\n",
              "      <th>out_prncp_inv</th>\n",
              "      <th>total_pymnt</th>\n",
              "      <th>total_pymnt_inv</th>\n",
              "      <th>...</th>\n",
              "      <th>inq_fi</th>\n",
              "      <th>total_cu_tl</th>\n",
              "      <th>inq_last_12m</th>\n",
              "      <th>acc_open_past_24mths</th>\n",
              "      <th>avg_cur_bal</th>\n",
              "      <th>bc_open_to_buy</th>\n",
              "      <th>bc_util</th>\n",
              "      <th>chargeoff_within_12_mths</th>\n",
              "      <th>delinq_amnt</th>\n",
              "      <th>mo_sin_old_il_acct</th>\n",
              "      <th>mo_sin_old_rev_tl_op</th>\n",
              "      <th>mo_sin_rcnt_rev_tl_op</th>\n",
              "      <th>mo_sin_rcnt_tl</th>\n",
              "      <th>mort_acc</th>\n",
              "      <th>mths_since_recent_bc</th>\n",
              "      <th>mths_since_recent_bc_dlq</th>\n",
              "      <th>mths_since_recent_inq</th>\n",
              "      <th>mths_since_recent_revol_delinq</th>\n",
              "      <th>num_accts_ever_120_pd</th>\n",
              "      <th>num_actv_bc_tl</th>\n",
              "      <th>num_actv_rev_tl</th>\n",
              "      <th>num_bc_sats</th>\n",
              "      <th>num_bc_tl</th>\n",
              "      <th>num_il_tl</th>\n",
              "      <th>num_op_rev_tl</th>\n",
              "      <th>num_rev_accts</th>\n",
              "      <th>num_rev_tl_bal_gt_0</th>\n",
              "      <th>num_sats</th>\n",
              "      <th>num_tl_120dpd_2m</th>\n",
              "      <th>num_tl_30dpd</th>\n",
              "      <th>num_tl_90g_dpd_24m</th>\n",
              "      <th>num_tl_op_past_12m</th>\n",
              "      <th>pct_tl_nvr_dlq</th>\n",
              "      <th>percent_bc_gt_75</th>\n",
              "      <th>pub_rec_bankruptcies</th>\n",
              "      <th>tax_liens</th>\n",
              "      <th>tot_hi_cred_lim</th>\n",
              "      <th>total_bal_ex_mort</th>\n",
              "      <th>total_bc_limit</th>\n",
              "      <th>total_il_high_credit_limit</th>\n",
              "    </tr>\n",
              "  </thead>\n",
              "  <tbody>\n",
              "    <tr>\n",
              "      <th>0</th>\n",
              "      <td>1077501</td>\n",
              "      <td>1296599</td>\n",
              "      <td>5000</td>\n",
              "      <td>5000</td>\n",
              "      <td>4975.0</td>\n",
              "      <td>36 months</td>\n",
              "      <td>10.65%</td>\n",
              "      <td>162.87</td>\n",
              "      <td>B</td>\n",
              "      <td>B2</td>\n",
              "      <td>NaN</td>\n",
              "      <td>10+ years</td>\n",
              "      <td>RENT</td>\n",
              "      <td>24000.0</td>\n",
              "      <td>Verified</td>\n",
              "      <td>Dec-11</td>\n",
              "      <td>Fully Paid</td>\n",
              "      <td>n</td>\n",
              "      <td>https://lendingclub.com/browse/loanDetail.acti...</td>\n",
              "      <td>Borrower added on 12/22/11 &gt; I need to upgra...</td>\n",
              "      <td>credit_card</td>\n",
              "      <td>Computer</td>\n",
              "      <td>860xx</td>\n",
              "      <td>AZ</td>\n",
              "      <td>27.65</td>\n",
              "      <td>0</td>\n",
              "      <td>Jan-85</td>\n",
              "      <td>1</td>\n",
              "      <td>NaN</td>\n",
              "      <td>NaN</td>\n",
              "      <td>3</td>\n",
              "      <td>0</td>\n",
              "      <td>13648</td>\n",
              "      <td>83.70%</td>\n",
              "      <td>9</td>\n",
              "      <td>f</td>\n",
              "      <td>0.00</td>\n",
              "      <td>0.00</td>\n",
              "      <td>5863.155187</td>\n",
              "      <td>5833.84</td>\n",
              "      <td>...</td>\n",
              "      <td>NaN</td>\n",
              "      <td>NaN</td>\n",
              "      <td>NaN</td>\n",
              "      <td>NaN</td>\n",
              "      <td>NaN</td>\n",
              "      <td>NaN</td>\n",
              "      <td>NaN</td>\n",
              "      <td>0.0</td>\n",
              "      <td>0</td>\n",
              "      <td>NaN</td>\n",
              "      <td>NaN</td>\n",
              "      <td>NaN</td>\n",
              "      <td>NaN</td>\n",
              "      <td>NaN</td>\n",
              "      <td>NaN</td>\n",
              "      <td>NaN</td>\n",
              "      <td>NaN</td>\n",
              "      <td>NaN</td>\n",
              "      <td>NaN</td>\n",
              "      <td>NaN</td>\n",
              "      <td>NaN</td>\n",
              "      <td>NaN</td>\n",
              "      <td>NaN</td>\n",
              "      <td>NaN</td>\n",
              "      <td>NaN</td>\n",
              "      <td>NaN</td>\n",
              "      <td>NaN</td>\n",
              "      <td>NaN</td>\n",
              "      <td>NaN</td>\n",
              "      <td>NaN</td>\n",
              "      <td>NaN</td>\n",
              "      <td>NaN</td>\n",
              "      <td>NaN</td>\n",
              "      <td>NaN</td>\n",
              "      <td>0.0</td>\n",
              "      <td>0.0</td>\n",
              "      <td>NaN</td>\n",
              "      <td>NaN</td>\n",
              "      <td>NaN</td>\n",
              "      <td>NaN</td>\n",
              "    </tr>\n",
              "    <tr>\n",
              "      <th>1</th>\n",
              "      <td>1077430</td>\n",
              "      <td>1314167</td>\n",
              "      <td>2500</td>\n",
              "      <td>2500</td>\n",
              "      <td>2500.0</td>\n",
              "      <td>60 months</td>\n",
              "      <td>15.27%</td>\n",
              "      <td>59.83</td>\n",
              "      <td>C</td>\n",
              "      <td>C4</td>\n",
              "      <td>Ryder</td>\n",
              "      <td>&lt; 1 year</td>\n",
              "      <td>RENT</td>\n",
              "      <td>30000.0</td>\n",
              "      <td>Source Verified</td>\n",
              "      <td>Dec-11</td>\n",
              "      <td>Charged Off</td>\n",
              "      <td>n</td>\n",
              "      <td>https://lendingclub.com/browse/loanDetail.acti...</td>\n",
              "      <td>Borrower added on 12/22/11 &gt; I plan to use t...</td>\n",
              "      <td>car</td>\n",
              "      <td>bike</td>\n",
              "      <td>309xx</td>\n",
              "      <td>GA</td>\n",
              "      <td>1.00</td>\n",
              "      <td>0</td>\n",
              "      <td>Apr-99</td>\n",
              "      <td>5</td>\n",
              "      <td>NaN</td>\n",
              "      <td>NaN</td>\n",
              "      <td>3</td>\n",
              "      <td>0</td>\n",
              "      <td>1687</td>\n",
              "      <td>9.40%</td>\n",
              "      <td>4</td>\n",
              "      <td>f</td>\n",
              "      <td>0.00</td>\n",
              "      <td>0.00</td>\n",
              "      <td>1008.710000</td>\n",
              "      <td>1008.71</td>\n",
              "      <td>...</td>\n",
              "      <td>NaN</td>\n",
              "      <td>NaN</td>\n",
              "      <td>NaN</td>\n",
              "      <td>NaN</td>\n",
              "      <td>NaN</td>\n",
              "      <td>NaN</td>\n",
              "      <td>NaN</td>\n",
              "      <td>0.0</td>\n",
              "      <td>0</td>\n",
              "      <td>NaN</td>\n",
              "      <td>NaN</td>\n",
              "      <td>NaN</td>\n",
              "      <td>NaN</td>\n",
              "      <td>NaN</td>\n",
              "      <td>NaN</td>\n",
              "      <td>NaN</td>\n",
              "      <td>NaN</td>\n",
              "      <td>NaN</td>\n",
              "      <td>NaN</td>\n",
              "      <td>NaN</td>\n",
              "      <td>NaN</td>\n",
              "      <td>NaN</td>\n",
              "      <td>NaN</td>\n",
              "      <td>NaN</td>\n",
              "      <td>NaN</td>\n",
              "      <td>NaN</td>\n",
              "      <td>NaN</td>\n",
              "      <td>NaN</td>\n",
              "      <td>NaN</td>\n",
              "      <td>NaN</td>\n",
              "      <td>NaN</td>\n",
              "      <td>NaN</td>\n",
              "      <td>NaN</td>\n",
              "      <td>NaN</td>\n",
              "      <td>0.0</td>\n",
              "      <td>0.0</td>\n",
              "      <td>NaN</td>\n",
              "      <td>NaN</td>\n",
              "      <td>NaN</td>\n",
              "      <td>NaN</td>\n",
              "    </tr>\n",
              "    <tr>\n",
              "      <th>2</th>\n",
              "      <td>1077175</td>\n",
              "      <td>1313524</td>\n",
              "      <td>2400</td>\n",
              "      <td>2400</td>\n",
              "      <td>2400.0</td>\n",
              "      <td>36 months</td>\n",
              "      <td>15.96%</td>\n",
              "      <td>84.33</td>\n",
              "      <td>C</td>\n",
              "      <td>C5</td>\n",
              "      <td>NaN</td>\n",
              "      <td>10+ years</td>\n",
              "      <td>RENT</td>\n",
              "      <td>12252.0</td>\n",
              "      <td>Not Verified</td>\n",
              "      <td>Dec-11</td>\n",
              "      <td>Fully Paid</td>\n",
              "      <td>n</td>\n",
              "      <td>https://lendingclub.com/browse/loanDetail.acti...</td>\n",
              "      <td>NaN</td>\n",
              "      <td>small_business</td>\n",
              "      <td>real estate business</td>\n",
              "      <td>606xx</td>\n",
              "      <td>IL</td>\n",
              "      <td>8.72</td>\n",
              "      <td>0</td>\n",
              "      <td>Nov-01</td>\n",
              "      <td>2</td>\n",
              "      <td>NaN</td>\n",
              "      <td>NaN</td>\n",
              "      <td>2</td>\n",
              "      <td>0</td>\n",
              "      <td>2956</td>\n",
              "      <td>98.50%</td>\n",
              "      <td>10</td>\n",
              "      <td>f</td>\n",
              "      <td>0.00</td>\n",
              "      <td>0.00</td>\n",
              "      <td>3005.666844</td>\n",
              "      <td>3005.67</td>\n",
              "      <td>...</td>\n",
              "      <td>NaN</td>\n",
              "      <td>NaN</td>\n",
              "      <td>NaN</td>\n",
              "      <td>NaN</td>\n",
              "      <td>NaN</td>\n",
              "      <td>NaN</td>\n",
              "      <td>NaN</td>\n",
              "      <td>0.0</td>\n",
              "      <td>0</td>\n",
              "      <td>NaN</td>\n",
              "      <td>NaN</td>\n",
              "      <td>NaN</td>\n",
              "      <td>NaN</td>\n",
              "      <td>NaN</td>\n",
              "      <td>NaN</td>\n",
              "      <td>NaN</td>\n",
              "      <td>NaN</td>\n",
              "      <td>NaN</td>\n",
              "      <td>NaN</td>\n",
              "      <td>NaN</td>\n",
              "      <td>NaN</td>\n",
              "      <td>NaN</td>\n",
              "      <td>NaN</td>\n",
              "      <td>NaN</td>\n",
              "      <td>NaN</td>\n",
              "      <td>NaN</td>\n",
              "      <td>NaN</td>\n",
              "      <td>NaN</td>\n",
              "      <td>NaN</td>\n",
              "      <td>NaN</td>\n",
              "      <td>NaN</td>\n",
              "      <td>NaN</td>\n",
              "      <td>NaN</td>\n",
              "      <td>NaN</td>\n",
              "      <td>0.0</td>\n",
              "      <td>0.0</td>\n",
              "      <td>NaN</td>\n",
              "      <td>NaN</td>\n",
              "      <td>NaN</td>\n",
              "      <td>NaN</td>\n",
              "    </tr>\n",
              "    <tr>\n",
              "      <th>3</th>\n",
              "      <td>1076863</td>\n",
              "      <td>1277178</td>\n",
              "      <td>10000</td>\n",
              "      <td>10000</td>\n",
              "      <td>10000.0</td>\n",
              "      <td>36 months</td>\n",
              "      <td>13.49%</td>\n",
              "      <td>339.31</td>\n",
              "      <td>C</td>\n",
              "      <td>C1</td>\n",
              "      <td>AIR RESOURCES BOARD</td>\n",
              "      <td>10+ years</td>\n",
              "      <td>RENT</td>\n",
              "      <td>49200.0</td>\n",
              "      <td>Source Verified</td>\n",
              "      <td>Dec-11</td>\n",
              "      <td>Fully Paid</td>\n",
              "      <td>n</td>\n",
              "      <td>https://lendingclub.com/browse/loanDetail.acti...</td>\n",
              "      <td>Borrower added on 12/21/11 &gt; to pay for prop...</td>\n",
              "      <td>other</td>\n",
              "      <td>personel</td>\n",
              "      <td>917xx</td>\n",
              "      <td>CA</td>\n",
              "      <td>20.00</td>\n",
              "      <td>0</td>\n",
              "      <td>Feb-96</td>\n",
              "      <td>1</td>\n",
              "      <td>35.0</td>\n",
              "      <td>NaN</td>\n",
              "      <td>10</td>\n",
              "      <td>0</td>\n",
              "      <td>5598</td>\n",
              "      <td>21%</td>\n",
              "      <td>37</td>\n",
              "      <td>f</td>\n",
              "      <td>0.00</td>\n",
              "      <td>0.00</td>\n",
              "      <td>12231.890000</td>\n",
              "      <td>12231.89</td>\n",
              "      <td>...</td>\n",
              "      <td>NaN</td>\n",
              "      <td>NaN</td>\n",
              "      <td>NaN</td>\n",
              "      <td>NaN</td>\n",
              "      <td>NaN</td>\n",
              "      <td>NaN</td>\n",
              "      <td>NaN</td>\n",
              "      <td>0.0</td>\n",
              "      <td>0</td>\n",
              "      <td>NaN</td>\n",
              "      <td>NaN</td>\n",
              "      <td>NaN</td>\n",
              "      <td>NaN</td>\n",
              "      <td>NaN</td>\n",
              "      <td>NaN</td>\n",
              "      <td>NaN</td>\n",
              "      <td>NaN</td>\n",
              "      <td>NaN</td>\n",
              "      <td>NaN</td>\n",
              "      <td>NaN</td>\n",
              "      <td>NaN</td>\n",
              "      <td>NaN</td>\n",
              "      <td>NaN</td>\n",
              "      <td>NaN</td>\n",
              "      <td>NaN</td>\n",
              "      <td>NaN</td>\n",
              "      <td>NaN</td>\n",
              "      <td>NaN</td>\n",
              "      <td>NaN</td>\n",
              "      <td>NaN</td>\n",
              "      <td>NaN</td>\n",
              "      <td>NaN</td>\n",
              "      <td>NaN</td>\n",
              "      <td>NaN</td>\n",
              "      <td>0.0</td>\n",
              "      <td>0.0</td>\n",
              "      <td>NaN</td>\n",
              "      <td>NaN</td>\n",
              "      <td>NaN</td>\n",
              "      <td>NaN</td>\n",
              "    </tr>\n",
              "    <tr>\n",
              "      <th>4</th>\n",
              "      <td>1075358</td>\n",
              "      <td>1311748</td>\n",
              "      <td>3000</td>\n",
              "      <td>3000</td>\n",
              "      <td>3000.0</td>\n",
              "      <td>60 months</td>\n",
              "      <td>12.69%</td>\n",
              "      <td>67.79</td>\n",
              "      <td>B</td>\n",
              "      <td>B5</td>\n",
              "      <td>University Medical Group</td>\n",
              "      <td>1 year</td>\n",
              "      <td>RENT</td>\n",
              "      <td>80000.0</td>\n",
              "      <td>Source Verified</td>\n",
              "      <td>Dec-11</td>\n",
              "      <td>Current</td>\n",
              "      <td>n</td>\n",
              "      <td>https://lendingclub.com/browse/loanDetail.acti...</td>\n",
              "      <td>Borrower added on 12/21/11 &gt; I plan on combi...</td>\n",
              "      <td>other</td>\n",
              "      <td>Personal</td>\n",
              "      <td>972xx</td>\n",
              "      <td>OR</td>\n",
              "      <td>17.94</td>\n",
              "      <td>0</td>\n",
              "      <td>Jan-96</td>\n",
              "      <td>0</td>\n",
              "      <td>38.0</td>\n",
              "      <td>NaN</td>\n",
              "      <td>15</td>\n",
              "      <td>0</td>\n",
              "      <td>27783</td>\n",
              "      <td>53.90%</td>\n",
              "      <td>38</td>\n",
              "      <td>f</td>\n",
              "      <td>524.06</td>\n",
              "      <td>524.06</td>\n",
              "      <td>3513.330000</td>\n",
              "      <td>3513.33</td>\n",
              "      <td>...</td>\n",
              "      <td>NaN</td>\n",
              "      <td>NaN</td>\n",
              "      <td>NaN</td>\n",
              "      <td>NaN</td>\n",
              "      <td>NaN</td>\n",
              "      <td>NaN</td>\n",
              "      <td>NaN</td>\n",
              "      <td>0.0</td>\n",
              "      <td>0</td>\n",
              "      <td>NaN</td>\n",
              "      <td>NaN</td>\n",
              "      <td>NaN</td>\n",
              "      <td>NaN</td>\n",
              "      <td>NaN</td>\n",
              "      <td>NaN</td>\n",
              "      <td>NaN</td>\n",
              "      <td>NaN</td>\n",
              "      <td>NaN</td>\n",
              "      <td>NaN</td>\n",
              "      <td>NaN</td>\n",
              "      <td>NaN</td>\n",
              "      <td>NaN</td>\n",
              "      <td>NaN</td>\n",
              "      <td>NaN</td>\n",
              "      <td>NaN</td>\n",
              "      <td>NaN</td>\n",
              "      <td>NaN</td>\n",
              "      <td>NaN</td>\n",
              "      <td>NaN</td>\n",
              "      <td>NaN</td>\n",
              "      <td>NaN</td>\n",
              "      <td>NaN</td>\n",
              "      <td>NaN</td>\n",
              "      <td>NaN</td>\n",
              "      <td>0.0</td>\n",
              "      <td>0.0</td>\n",
              "      <td>NaN</td>\n",
              "      <td>NaN</td>\n",
              "      <td>NaN</td>\n",
              "      <td>NaN</td>\n",
              "    </tr>\n",
              "  </tbody>\n",
              "</table>\n",
              "<p>5 rows × 111 columns</p>\n",
              "</div>"
            ],
            "text/plain": [
              "        id  member_id  ...  total_bc_limit  total_il_high_credit_limit\n",
              "0  1077501    1296599  ...             NaN                         NaN\n",
              "1  1077430    1314167  ...             NaN                         NaN\n",
              "2  1077175    1313524  ...             NaN                         NaN\n",
              "3  1076863    1277178  ...             NaN                         NaN\n",
              "4  1075358    1311748  ...             NaN                         NaN\n",
              "\n",
              "[5 rows x 111 columns]"
            ]
          },
          "metadata": {
            "tags": []
          },
          "execution_count": 5
        }
      ]
    },
    {
      "cell_type": "code",
      "metadata": {
        "id": "4fP3WrMVG8L_",
        "colab_type": "code",
        "colab": {}
      },
      "source": [
        "# Looking at all the column names\n",
        "loan.columns"
      ],
      "execution_count": null,
      "outputs": []
    },
    {
      "cell_type": "markdown",
      "metadata": {
        "id": "g1WrUQYkG8MJ",
        "colab_type": "text"
      },
      "source": [
        "Some of the important columns in the dataset are loan_amount, term, interest rate, grade, sub grade, annual income, purpose of the loan etc.\n",
        "\n",
        "The **target variable**, which we want to compare across the independent variables, is loan status. The strategy is to figure out compare the average default rates across various independent variables and identify the  ones that affect default rate the most.\n",
        "\n"
      ]
    },
    {
      "cell_type": "markdown",
      "metadata": {
        "id": "LpdTjvqWG8MK",
        "colab_type": "text"
      },
      "source": [
        "# Data Cleaning\n",
        "\n",
        "Some columns have a large number of missing values, let's first fix the missing values and then check for other types of data quality problems."
      ]
    },
    {
      "cell_type": "code",
      "metadata": {
        "id": "Oit-EU1HG8ML",
        "colab_type": "code",
        "colab": {
          "base_uri": "https://localhost:8080/",
          "height": 221
        },
        "outputId": "fb207795-30bf-4ffe-a16a-2cc370776035"
      },
      "source": [
        "# summarising number of missing values in each column\n",
        "loan.isnull().sum()"
      ],
      "execution_count": null,
      "outputs": [
        {
          "output_type": "execute_result",
          "data": {
            "text/plain": [
              "id                                0\n",
              "member_id                         0\n",
              "loan_amnt                         0\n",
              "funded_amnt                       0\n",
              "funded_amnt_inv                   0\n",
              "                              ...  \n",
              "tax_liens                        39\n",
              "tot_hi_cred_lim               39717\n",
              "total_bal_ex_mort             39717\n",
              "total_bc_limit                39717\n",
              "total_il_high_credit_limit    39717\n",
              "Length: 111, dtype: int64"
            ]
          },
          "metadata": {
            "tags": []
          },
          "execution_count": 6
        }
      ]
    },
    {
      "cell_type": "code",
      "metadata": {
        "id": "ryS6Q958G8MT",
        "colab_type": "code",
        "colab": {
          "base_uri": "https://localhost:8080/",
          "height": 221
        },
        "outputId": "68d92bc8-e83c-40cf-bece-cb1ba1125a5d"
      },
      "source": [
        "# percentage of missing values in each column\n",
        "round(loan.isnull().sum()/len(loan.index), 2)*100"
      ],
      "execution_count": null,
      "outputs": [
        {
          "output_type": "execute_result",
          "data": {
            "text/plain": [
              "id                              0.0\n",
              "member_id                       0.0\n",
              "loan_amnt                       0.0\n",
              "funded_amnt                     0.0\n",
              "funded_amnt_inv                 0.0\n",
              "                              ...  \n",
              "tax_liens                       0.0\n",
              "tot_hi_cred_lim               100.0\n",
              "total_bal_ex_mort             100.0\n",
              "total_bc_limit                100.0\n",
              "total_il_high_credit_limit    100.0\n",
              "Length: 111, dtype: float64"
            ]
          },
          "metadata": {
            "tags": []
          },
          "execution_count": 7
        }
      ]
    },
    {
      "cell_type": "markdown",
      "metadata": {
        "id": "UE0j8lt8G8Mf",
        "colab_type": "text"
      },
      "source": [
        "You can see that many columns have 100% missing values, some have 65%, 33% etc. First, let's get rid of the columns having 100% missing values."
      ]
    },
    {
      "cell_type": "code",
      "metadata": {
        "id": "HZ8QqWAJG8Mi",
        "colab_type": "code",
        "colab": {
          "base_uri": "https://localhost:8080/",
          "height": 323
        },
        "outputId": "3919c00f-67e1-4e66-8b73-e037d1681687"
      },
      "source": [
        "# removing the columns having more than 90% missing values\n",
        "missing_columns = loan.columns[100*(loan.isnull().sum()/len(loan.index)) > 90]\n",
        "print(missing_columns)"
      ],
      "execution_count": null,
      "outputs": [
        {
          "output_type": "stream",
          "text": [
            "Index(['mths_since_last_record', 'next_pymnt_d', 'mths_since_last_major_derog',\n",
            "       'annual_inc_joint', 'dti_joint', 'verification_status_joint',\n",
            "       'tot_coll_amt', 'tot_cur_bal', 'open_acc_6m', 'open_il_6m',\n",
            "       'open_il_12m', 'open_il_24m', 'mths_since_rcnt_il', 'total_bal_il',\n",
            "       'il_util', 'open_rv_12m', 'open_rv_24m', 'max_bal_bc', 'all_util',\n",
            "       'total_rev_hi_lim', 'inq_fi', 'total_cu_tl', 'inq_last_12m',\n",
            "       'acc_open_past_24mths', 'avg_cur_bal', 'bc_open_to_buy', 'bc_util',\n",
            "       'mo_sin_old_il_acct', 'mo_sin_old_rev_tl_op', 'mo_sin_rcnt_rev_tl_op',\n",
            "       'mo_sin_rcnt_tl', 'mort_acc', 'mths_since_recent_bc',\n",
            "       'mths_since_recent_bc_dlq', 'mths_since_recent_inq',\n",
            "       'mths_since_recent_revol_delinq', 'num_accts_ever_120_pd',\n",
            "       'num_actv_bc_tl', 'num_actv_rev_tl', 'num_bc_sats', 'num_bc_tl',\n",
            "       'num_il_tl', 'num_op_rev_tl', 'num_rev_accts', 'num_rev_tl_bal_gt_0',\n",
            "       'num_sats', 'num_tl_120dpd_2m', 'num_tl_30dpd', 'num_tl_90g_dpd_24m',\n",
            "       'num_tl_op_past_12m', 'pct_tl_nvr_dlq', 'percent_bc_gt_75',\n",
            "       'tot_hi_cred_lim', 'total_bal_ex_mort', 'total_bc_limit',\n",
            "       'total_il_high_credit_limit'],\n",
            "      dtype='object')\n"
          ],
          "name": "stdout"
        }
      ]
    },
    {
      "cell_type": "code",
      "metadata": {
        "id": "rZAFQz98G8Mu",
        "colab_type": "code",
        "colab": {
          "base_uri": "https://localhost:8080/",
          "height": 34
        },
        "outputId": "19008225-8a75-4613-fcf9-9837ba7318f9"
      },
      "source": [
        "loan = loan.drop(missing_columns, axis=1)\n",
        "print(loan.shape)\n",
        "\n"
      ],
      "execution_count": null,
      "outputs": [
        {
          "output_type": "stream",
          "text": [
            "(39717, 55)\n"
          ],
          "name": "stdout"
        }
      ]
    },
    {
      "cell_type": "code",
      "metadata": {
        "id": "i5UV0trMG8M6",
        "colab_type": "code",
        "colab": {
          "base_uri": "https://localhost:8080/",
          "height": 969
        },
        "outputId": "aa46d950-fa9e-4b1a-ea17-936b33061fa8"
      },
      "source": [
        "# summarise number of missing values again\n",
        "100*(loan.isnull().sum()/len(loan.index))"
      ],
      "execution_count": null,
      "outputs": [
        {
          "output_type": "execute_result",
          "data": {
            "text/plain": [
              "id                             0.000000\n",
              "member_id                      0.000000\n",
              "loan_amnt                      0.000000\n",
              "funded_amnt                    0.000000\n",
              "funded_amnt_inv                0.000000\n",
              "term                           0.000000\n",
              "int_rate                       0.000000\n",
              "installment                    0.000000\n",
              "grade                          0.000000\n",
              "sub_grade                      0.000000\n",
              "emp_title                      6.191303\n",
              "emp_length                     2.706650\n",
              "home_ownership                 0.000000\n",
              "annual_inc                     0.000000\n",
              "verification_status            0.000000\n",
              "issue_d                        0.000000\n",
              "loan_status                    0.000000\n",
              "pymnt_plan                     0.000000\n",
              "url                            0.000000\n",
              "desc                          32.580507\n",
              "purpose                        0.000000\n",
              "title                          0.027696\n",
              "zip_code                       0.000000\n",
              "addr_state                     0.000000\n",
              "dti                            0.000000\n",
              "delinq_2yrs                    0.000000\n",
              "earliest_cr_line               0.000000\n",
              "inq_last_6mths                 0.000000\n",
              "mths_since_last_delinq        64.662487\n",
              "open_acc                       0.000000\n",
              "pub_rec                        0.000000\n",
              "revol_bal                      0.000000\n",
              "revol_util                     0.125891\n",
              "total_acc                      0.000000\n",
              "initial_list_status            0.000000\n",
              "out_prncp                      0.000000\n",
              "out_prncp_inv                  0.000000\n",
              "total_pymnt                    0.000000\n",
              "total_pymnt_inv                0.000000\n",
              "total_rec_prncp                0.000000\n",
              "total_rec_int                  0.000000\n",
              "total_rec_late_fee             0.000000\n",
              "recoveries                     0.000000\n",
              "collection_recovery_fee        0.000000\n",
              "last_pymnt_d                   0.178765\n",
              "last_pymnt_amnt                0.000000\n",
              "last_credit_pull_d             0.005036\n",
              "collections_12_mths_ex_med     0.140998\n",
              "policy_code                    0.000000\n",
              "application_type               0.000000\n",
              "acc_now_delinq                 0.000000\n",
              "chargeoff_within_12_mths       0.140998\n",
              "delinq_amnt                    0.000000\n",
              "pub_rec_bankruptcies           1.754916\n",
              "tax_liens                      0.098195\n",
              "dtype: float64"
            ]
          },
          "metadata": {
            "tags": []
          },
          "execution_count": 10
        }
      ]
    },
    {
      "cell_type": "code",
      "metadata": {
        "id": "755B-humG8M_",
        "colab_type": "code",
        "colab": {
          "base_uri": "https://localhost:8080/",
          "height": 204
        },
        "outputId": "26b8d305-9310-4bc5-8af1-ce9c3966406b"
      },
      "source": [
        "# There are now 2 columns having approx 32 and 64% missing values - \n",
        "# description and months since last delinquent\n",
        "\n",
        "# let's have a look at a few entries in the columns\n",
        "loan.loc[:, ['desc', 'mths_since_last_delinq']].head()"
      ],
      "execution_count": null,
      "outputs": [
        {
          "output_type": "execute_result",
          "data": {
            "text/html": [
              "<div>\n",
              "<style scoped>\n",
              "    .dataframe tbody tr th:only-of-type {\n",
              "        vertical-align: middle;\n",
              "    }\n",
              "\n",
              "    .dataframe tbody tr th {\n",
              "        vertical-align: top;\n",
              "    }\n",
              "\n",
              "    .dataframe thead th {\n",
              "        text-align: right;\n",
              "    }\n",
              "</style>\n",
              "<table border=\"1\" class=\"dataframe\">\n",
              "  <thead>\n",
              "    <tr style=\"text-align: right;\">\n",
              "      <th></th>\n",
              "      <th>desc</th>\n",
              "      <th>mths_since_last_delinq</th>\n",
              "    </tr>\n",
              "  </thead>\n",
              "  <tbody>\n",
              "    <tr>\n",
              "      <th>0</th>\n",
              "      <td>Borrower added on 12/22/11 &gt; I need to upgra...</td>\n",
              "      <td>NaN</td>\n",
              "    </tr>\n",
              "    <tr>\n",
              "      <th>1</th>\n",
              "      <td>Borrower added on 12/22/11 &gt; I plan to use t...</td>\n",
              "      <td>NaN</td>\n",
              "    </tr>\n",
              "    <tr>\n",
              "      <th>2</th>\n",
              "      <td>NaN</td>\n",
              "      <td>NaN</td>\n",
              "    </tr>\n",
              "    <tr>\n",
              "      <th>3</th>\n",
              "      <td>Borrower added on 12/21/11 &gt; to pay for prop...</td>\n",
              "      <td>35.0</td>\n",
              "    </tr>\n",
              "    <tr>\n",
              "      <th>4</th>\n",
              "      <td>Borrower added on 12/21/11 &gt; I plan on combi...</td>\n",
              "      <td>38.0</td>\n",
              "    </tr>\n",
              "  </tbody>\n",
              "</table>\n",
              "</div>"
            ],
            "text/plain": [
              "                                                desc  mths_since_last_delinq\n",
              "0    Borrower added on 12/22/11 > I need to upgra...                     NaN\n",
              "1    Borrower added on 12/22/11 > I plan to use t...                     NaN\n",
              "2                                                NaN                     NaN\n",
              "3    Borrower added on 12/21/11 > to pay for prop...                    35.0\n",
              "4    Borrower added on 12/21/11 > I plan on combi...                    38.0"
            ]
          },
          "metadata": {
            "tags": []
          },
          "execution_count": 11
        }
      ]
    },
    {
      "cell_type": "markdown",
      "metadata": {
        "id": "yMhJ4bk5G8NL",
        "colab_type": "text"
      },
      "source": [
        "The column description contains the comments the applicant had written while applying for the loan. Although one can use some text analysis techniques to derive new features from this column (such as sentiment, number of positive/negative words etc.), we will not use this column in this analysis. \n",
        "\n",
        "Secondly, months since last delinquent represents the number months passed since the person last fell into the 90 DPD group. There is an important reason we shouldn't use this column in analysis - since at the time of loan application, we will not have this data (it gets generated months after the loan has been approved), it cannot be used as a predictor of default at the time of loan approval. \n",
        "\n",
        "Thus let's drop the two columns."
      ]
    },
    {
      "cell_type": "code",
      "metadata": {
        "id": "1NRIdZ6rG8NN",
        "colab_type": "code",
        "colab": {}
      },
      "source": [
        "# dropping the two columns\n",
        "loan = loan.drop(['desc', 'mths_since_last_delinq'], axis=1)"
      ],
      "execution_count": null,
      "outputs": []
    },
    {
      "cell_type": "code",
      "metadata": {
        "id": "Afg2kGfdG8NZ",
        "colab_type": "code",
        "colab": {
          "base_uri": "https://localhost:8080/",
          "height": 935
        },
        "outputId": "53699fa2-1245-46ab-dc7b-ed5edbea4050"
      },
      "source": [
        "# summarise number of missing values again\n",
        "100*(loan.isnull().sum()/len(loan.index))"
      ],
      "execution_count": null,
      "outputs": [
        {
          "output_type": "execute_result",
          "data": {
            "text/plain": [
              "id                            0.000000\n",
              "member_id                     0.000000\n",
              "loan_amnt                     0.000000\n",
              "funded_amnt                   0.000000\n",
              "funded_amnt_inv               0.000000\n",
              "term                          0.000000\n",
              "int_rate                      0.000000\n",
              "installment                   0.000000\n",
              "grade                         0.000000\n",
              "sub_grade                     0.000000\n",
              "emp_title                     6.191303\n",
              "emp_length                    2.706650\n",
              "home_ownership                0.000000\n",
              "annual_inc                    0.000000\n",
              "verification_status           0.000000\n",
              "issue_d                       0.000000\n",
              "loan_status                   0.000000\n",
              "pymnt_plan                    0.000000\n",
              "url                           0.000000\n",
              "purpose                       0.000000\n",
              "title                         0.027696\n",
              "zip_code                      0.000000\n",
              "addr_state                    0.000000\n",
              "dti                           0.000000\n",
              "delinq_2yrs                   0.000000\n",
              "earliest_cr_line              0.000000\n",
              "inq_last_6mths                0.000000\n",
              "open_acc                      0.000000\n",
              "pub_rec                       0.000000\n",
              "revol_bal                     0.000000\n",
              "revol_util                    0.125891\n",
              "total_acc                     0.000000\n",
              "initial_list_status           0.000000\n",
              "out_prncp                     0.000000\n",
              "out_prncp_inv                 0.000000\n",
              "total_pymnt                   0.000000\n",
              "total_pymnt_inv               0.000000\n",
              "total_rec_prncp               0.000000\n",
              "total_rec_int                 0.000000\n",
              "total_rec_late_fee            0.000000\n",
              "recoveries                    0.000000\n",
              "collection_recovery_fee       0.000000\n",
              "last_pymnt_d                  0.178765\n",
              "last_pymnt_amnt               0.000000\n",
              "last_credit_pull_d            0.005036\n",
              "collections_12_mths_ex_med    0.140998\n",
              "policy_code                   0.000000\n",
              "application_type              0.000000\n",
              "acc_now_delinq                0.000000\n",
              "chargeoff_within_12_mths      0.140998\n",
              "delinq_amnt                   0.000000\n",
              "pub_rec_bankruptcies          1.754916\n",
              "tax_liens                     0.098195\n",
              "dtype: float64"
            ]
          },
          "metadata": {
            "tags": []
          },
          "execution_count": 13
        }
      ]
    },
    {
      "cell_type": "markdown",
      "metadata": {
        "id": "NKOf_KhMG8Ni",
        "colab_type": "text"
      },
      "source": [
        "There are some more columns with missing values, but let's ignore them for now (since we are ntot doing any modeling, we don't need to impute all missing values anyway). \n",
        "\n",
        "But let's check whether some rows have a large number of missing values."
      ]
    },
    {
      "cell_type": "code",
      "metadata": {
        "id": "uOPAyL6FG8Nj",
        "colab_type": "code",
        "colab": {
          "base_uri": "https://localhost:8080/",
          "height": 221
        },
        "outputId": "cd6ffb21-1902-4b33-8788-e2f00ee78915"
      },
      "source": [
        "# missing values in rows\n",
        "loan.isnull().sum(axis=1)"
      ],
      "execution_count": null,
      "outputs": [
        {
          "output_type": "execute_result",
          "data": {
            "text/plain": [
              "0        1\n",
              "1        0\n",
              "2        1\n",
              "3        0\n",
              "4        0\n",
              "        ..\n",
              "39712    4\n",
              "39713    4\n",
              "39714    5\n",
              "39715    5\n",
              "39716    4\n",
              "Length: 39717, dtype: int64"
            ]
          },
          "metadata": {
            "tags": []
          },
          "execution_count": 14
        }
      ]
    },
    {
      "cell_type": "code",
      "metadata": {
        "id": "Lh6EVIgJG8Ns",
        "colab_type": "code",
        "colab": {
          "base_uri": "https://localhost:8080/",
          "height": 34
        },
        "outputId": "7def687a-8dc5-4d9e-8e4a-11e851893935"
      },
      "source": [
        "# checking whether some rows have more than 5 missing values\n",
        "len(loan[loan.isnull().sum(axis=1) > 5].index)"
      ],
      "execution_count": null,
      "outputs": [
        {
          "output_type": "execute_result",
          "data": {
            "text/plain": [
              "0"
            ]
          },
          "metadata": {
            "tags": []
          },
          "execution_count": 15
        }
      ]
    },
    {
      "cell_type": "markdown",
      "metadata": {
        "id": "ZiIYYvYmG8Ny",
        "colab_type": "text"
      },
      "source": [
        "The data looks clean by and large. Let's also check whether all columns are in the correct format."
      ]
    },
    {
      "cell_type": "code",
      "metadata": {
        "id": "mW8R0a3YG8N0",
        "colab_type": "code",
        "colab": {
          "base_uri": "https://localhost:8080/",
          "height": 1000
        },
        "outputId": "410d52ea-81e5-4441-bbf7-dbdddd8e6ac9"
      },
      "source": [
        "loan.info()"
      ],
      "execution_count": null,
      "outputs": [
        {
          "output_type": "stream",
          "text": [
            "<class 'pandas.core.frame.DataFrame'>\n",
            "RangeIndex: 39717 entries, 0 to 39716\n",
            "Data columns (total 53 columns):\n",
            " #   Column                      Non-Null Count  Dtype  \n",
            "---  ------                      --------------  -----  \n",
            " 0   id                          39717 non-null  int64  \n",
            " 1   member_id                   39717 non-null  int64  \n",
            " 2   loan_amnt                   39717 non-null  int64  \n",
            " 3   funded_amnt                 39717 non-null  int64  \n",
            " 4   funded_amnt_inv             39717 non-null  float64\n",
            " 5   term                        39717 non-null  object \n",
            " 6   int_rate                    39717 non-null  object \n",
            " 7   installment                 39717 non-null  float64\n",
            " 8   grade                       39717 non-null  object \n",
            " 9   sub_grade                   39717 non-null  object \n",
            " 10  emp_title                   37258 non-null  object \n",
            " 11  emp_length                  38642 non-null  object \n",
            " 12  home_ownership              39717 non-null  object \n",
            " 13  annual_inc                  39717 non-null  float64\n",
            " 14  verification_status         39717 non-null  object \n",
            " 15  issue_d                     39717 non-null  object \n",
            " 16  loan_status                 39717 non-null  object \n",
            " 17  pymnt_plan                  39717 non-null  object \n",
            " 18  url                         39717 non-null  object \n",
            " 19  purpose                     39717 non-null  object \n",
            " 20  title                       39706 non-null  object \n",
            " 21  zip_code                    39717 non-null  object \n",
            " 22  addr_state                  39717 non-null  object \n",
            " 23  dti                         39717 non-null  float64\n",
            " 24  delinq_2yrs                 39717 non-null  int64  \n",
            " 25  earliest_cr_line            39717 non-null  object \n",
            " 26  inq_last_6mths              39717 non-null  int64  \n",
            " 27  open_acc                    39717 non-null  int64  \n",
            " 28  pub_rec                     39717 non-null  int64  \n",
            " 29  revol_bal                   39717 non-null  int64  \n",
            " 30  revol_util                  39667 non-null  object \n",
            " 31  total_acc                   39717 non-null  int64  \n",
            " 32  initial_list_status         39717 non-null  object \n",
            " 33  out_prncp                   39717 non-null  float64\n",
            " 34  out_prncp_inv               39717 non-null  float64\n",
            " 35  total_pymnt                 39717 non-null  float64\n",
            " 36  total_pymnt_inv             39717 non-null  float64\n",
            " 37  total_rec_prncp             39717 non-null  float64\n",
            " 38  total_rec_int               39717 non-null  float64\n",
            " 39  total_rec_late_fee          39717 non-null  float64\n",
            " 40  recoveries                  39717 non-null  float64\n",
            " 41  collection_recovery_fee     39717 non-null  float64\n",
            " 42  last_pymnt_d                39646 non-null  object \n",
            " 43  last_pymnt_amnt             39717 non-null  float64\n",
            " 44  last_credit_pull_d          39715 non-null  object \n",
            " 45  collections_12_mths_ex_med  39661 non-null  float64\n",
            " 46  policy_code                 39717 non-null  int64  \n",
            " 47  application_type            39717 non-null  object \n",
            " 48  acc_now_delinq              39717 non-null  int64  \n",
            " 49  chargeoff_within_12_mths    39661 non-null  float64\n",
            " 50  delinq_amnt                 39717 non-null  int64  \n",
            " 51  pub_rec_bankruptcies        39020 non-null  float64\n",
            " 52  tax_liens                   39678 non-null  float64\n",
            "dtypes: float64(18), int64(13), object(22)\n",
            "memory usage: 16.1+ MB\n"
          ],
          "name": "stdout"
        }
      ]
    },
    {
      "cell_type": "code",
      "metadata": {
        "id": "BeBtKDfuG8N9",
        "colab_type": "code",
        "colab": {}
      },
      "source": [
        "# The column int_rate is character type, let's convert it to float\n",
        "loan['int_rate'] = loan['int_rate'].apply(lambda x: pd.to_numeric(x.split(\"%\")[0]))"
      ],
      "execution_count": null,
      "outputs": []
    },
    {
      "cell_type": "code",
      "metadata": {
        "id": "yzLWsDoQG8OB",
        "colab_type": "code",
        "colab": {
          "base_uri": "https://localhost:8080/",
          "height": 1000
        },
        "outputId": "79dcd031-1e48-4768-d371-1abcd11fb740"
      },
      "source": [
        "# checking the data types\n",
        "loan.info()"
      ],
      "execution_count": null,
      "outputs": [
        {
          "output_type": "stream",
          "text": [
            "<class 'pandas.core.frame.DataFrame'>\n",
            "RangeIndex: 39717 entries, 0 to 39716\n",
            "Data columns (total 53 columns):\n",
            " #   Column                      Non-Null Count  Dtype  \n",
            "---  ------                      --------------  -----  \n",
            " 0   id                          39717 non-null  int64  \n",
            " 1   member_id                   39717 non-null  int64  \n",
            " 2   loan_amnt                   39717 non-null  int64  \n",
            " 3   funded_amnt                 39717 non-null  int64  \n",
            " 4   funded_amnt_inv             39717 non-null  float64\n",
            " 5   term                        39717 non-null  object \n",
            " 6   int_rate                    39717 non-null  float64\n",
            " 7   installment                 39717 non-null  float64\n",
            " 8   grade                       39717 non-null  object \n",
            " 9   sub_grade                   39717 non-null  object \n",
            " 10  emp_title                   37258 non-null  object \n",
            " 11  emp_length                  38642 non-null  object \n",
            " 12  home_ownership              39717 non-null  object \n",
            " 13  annual_inc                  39717 non-null  float64\n",
            " 14  verification_status         39717 non-null  object \n",
            " 15  issue_d                     39717 non-null  object \n",
            " 16  loan_status                 39717 non-null  object \n",
            " 17  pymnt_plan                  39717 non-null  object \n",
            " 18  url                         39717 non-null  object \n",
            " 19  purpose                     39717 non-null  object \n",
            " 20  title                       39706 non-null  object \n",
            " 21  zip_code                    39717 non-null  object \n",
            " 22  addr_state                  39717 non-null  object \n",
            " 23  dti                         39717 non-null  float64\n",
            " 24  delinq_2yrs                 39717 non-null  int64  \n",
            " 25  earliest_cr_line            39717 non-null  object \n",
            " 26  inq_last_6mths              39717 non-null  int64  \n",
            " 27  open_acc                    39717 non-null  int64  \n",
            " 28  pub_rec                     39717 non-null  int64  \n",
            " 29  revol_bal                   39717 non-null  int64  \n",
            " 30  revol_util                  39667 non-null  object \n",
            " 31  total_acc                   39717 non-null  int64  \n",
            " 32  initial_list_status         39717 non-null  object \n",
            " 33  out_prncp                   39717 non-null  float64\n",
            " 34  out_prncp_inv               39717 non-null  float64\n",
            " 35  total_pymnt                 39717 non-null  float64\n",
            " 36  total_pymnt_inv             39717 non-null  float64\n",
            " 37  total_rec_prncp             39717 non-null  float64\n",
            " 38  total_rec_int               39717 non-null  float64\n",
            " 39  total_rec_late_fee          39717 non-null  float64\n",
            " 40  recoveries                  39717 non-null  float64\n",
            " 41  collection_recovery_fee     39717 non-null  float64\n",
            " 42  last_pymnt_d                39646 non-null  object \n",
            " 43  last_pymnt_amnt             39717 non-null  float64\n",
            " 44  last_credit_pull_d          39715 non-null  object \n",
            " 45  collections_12_mths_ex_med  39661 non-null  float64\n",
            " 46  policy_code                 39717 non-null  int64  \n",
            " 47  application_type            39717 non-null  object \n",
            " 48  acc_now_delinq              39717 non-null  int64  \n",
            " 49  chargeoff_within_12_mths    39661 non-null  float64\n",
            " 50  delinq_amnt                 39717 non-null  int64  \n",
            " 51  pub_rec_bankruptcies        39020 non-null  float64\n",
            " 52  tax_liens                   39678 non-null  float64\n",
            "dtypes: float64(19), int64(13), object(21)\n",
            "memory usage: 16.1+ MB\n"
          ],
          "name": "stdout"
        }
      ]
    },
    {
      "cell_type": "code",
      "metadata": {
        "id": "kYv33-QMG8OL",
        "colab_type": "code",
        "colab": {}
      },
      "source": [
        "# also, lets extract the numeric part from the variable employment length\n",
        "\n",
        "# first, let's drop the missing values from the column (otherwise the regex code below throws error)\n",
        "loan = loan[~loan['emp_length'].isnull()]\n",
        "\n",
        "# using regular expression to extract numeric values from the string\n",
        "import re\n",
        "loan['emp_length'] = loan['emp_length'].apply(lambda x: re.findall('\\d+', str(x))[0])\n",
        "\n",
        "# convert to numeric\n",
        "loan['emp_length'] = loan['emp_length'].apply(lambda x: pd.to_numeric(x))"
      ],
      "execution_count": null,
      "outputs": []
    },
    {
      "cell_type": "code",
      "metadata": {
        "id": "DHyUHtpvG8OQ",
        "colab_type": "code",
        "colab": {
          "base_uri": "https://localhost:8080/",
          "height": 1000
        },
        "outputId": "8cf75b1e-9e32-4292-c78b-d12b6d44d1ba"
      },
      "source": [
        "# looking at type of the columns again\n",
        "loan.info()"
      ],
      "execution_count": null,
      "outputs": [
        {
          "output_type": "stream",
          "text": [
            "<class 'pandas.core.frame.DataFrame'>\n",
            "Int64Index: 38642 entries, 0 to 39716\n",
            "Data columns (total 53 columns):\n",
            " #   Column                      Non-Null Count  Dtype  \n",
            "---  ------                      --------------  -----  \n",
            " 0   id                          38642 non-null  int64  \n",
            " 1   member_id                   38642 non-null  int64  \n",
            " 2   loan_amnt                   38642 non-null  int64  \n",
            " 3   funded_amnt                 38642 non-null  int64  \n",
            " 4   funded_amnt_inv             38642 non-null  float64\n",
            " 5   term                        38642 non-null  object \n",
            " 6   int_rate                    38642 non-null  float64\n",
            " 7   installment                 38642 non-null  float64\n",
            " 8   grade                       38642 non-null  object \n",
            " 9   sub_grade                   38642 non-null  object \n",
            " 10  emp_title                   37202 non-null  object \n",
            " 11  emp_length                  38642 non-null  int64  \n",
            " 12  home_ownership              38642 non-null  object \n",
            " 13  annual_inc                  38642 non-null  float64\n",
            " 14  verification_status         38642 non-null  object \n",
            " 15  issue_d                     38642 non-null  object \n",
            " 16  loan_status                 38642 non-null  object \n",
            " 17  pymnt_plan                  38642 non-null  object \n",
            " 18  url                         38642 non-null  object \n",
            " 19  purpose                     38642 non-null  object \n",
            " 20  title                       38632 non-null  object \n",
            " 21  zip_code                    38642 non-null  object \n",
            " 22  addr_state                  38642 non-null  object \n",
            " 23  dti                         38642 non-null  float64\n",
            " 24  delinq_2yrs                 38642 non-null  int64  \n",
            " 25  earliest_cr_line            38642 non-null  object \n",
            " 26  inq_last_6mths              38642 non-null  int64  \n",
            " 27  open_acc                    38642 non-null  int64  \n",
            " 28  pub_rec                     38642 non-null  int64  \n",
            " 29  revol_bal                   38642 non-null  int64  \n",
            " 30  revol_util                  38595 non-null  object \n",
            " 31  total_acc                   38642 non-null  int64  \n",
            " 32  initial_list_status         38642 non-null  object \n",
            " 33  out_prncp                   38642 non-null  float64\n",
            " 34  out_prncp_inv               38642 non-null  float64\n",
            " 35  total_pymnt                 38642 non-null  float64\n",
            " 36  total_pymnt_inv             38642 non-null  float64\n",
            " 37  total_rec_prncp             38642 non-null  float64\n",
            " 38  total_rec_int               38642 non-null  float64\n",
            " 39  total_rec_late_fee          38642 non-null  float64\n",
            " 40  recoveries                  38642 non-null  float64\n",
            " 41  collection_recovery_fee     38642 non-null  float64\n",
            " 42  last_pymnt_d                38576 non-null  object \n",
            " 43  last_pymnt_amnt             38642 non-null  float64\n",
            " 44  last_credit_pull_d          38640 non-null  object \n",
            " 45  collections_12_mths_ex_med  38586 non-null  float64\n",
            " 46  policy_code                 38642 non-null  int64  \n",
            " 47  application_type            38642 non-null  object \n",
            " 48  acc_now_delinq              38642 non-null  int64  \n",
            " 49  chargeoff_within_12_mths    38586 non-null  float64\n",
            " 50  delinq_amnt                 38642 non-null  int64  \n",
            " 51  pub_rec_bankruptcies        37945 non-null  float64\n",
            " 52  tax_liens                   38603 non-null  float64\n",
            "dtypes: float64(19), int64(14), object(20)\n",
            "memory usage: 15.9+ MB\n"
          ],
          "name": "stdout"
        }
      ]
    },
    {
      "cell_type": "markdown",
      "metadata": {
        "id": "fBQx5THLG8OV",
        "colab_type": "text"
      },
      "source": [
        "## Data Analysis\n",
        "\n",
        "Let's now move to data analysis. To start with, let's understand the objective of the analysis clearly and identify the variables that we want to consider for analysis. \n",
        "\n",
        "The objective is to identify predictors of default so that at the time of loan application, we can use those variables for approval/rejection of the loan. Now, there are broadly three types of variables - 1. those which are related to the applicant (demographic variables such as age, occupation, employment details etc.), 2. loan characteristics (amount of loan, interest rate, purpose of loan etc.) and 3. Customer behaviour variables (those which are generated after the loan is approved such as delinquent 2 years, revolving balance, next payment date etc.).\n",
        "\n",
        "Now, the customer behaviour variables are not available at the time of loan application, and thus they cannot be used as predictors for credit approval. \n",
        "\n",
        "Thus, going forward, we will use only the other two types of variables.\n",
        "\n"
      ]
    },
    {
      "cell_type": "code",
      "metadata": {
        "id": "oekI7y1pG8OX",
        "colab_type": "code",
        "colab": {
          "base_uri": "https://localhost:8080/",
          "height": 374
        },
        "outputId": "cda02985-31db-4666-e1c9-db76f063ece7"
      },
      "source": [
        "behaviour_var =  [\n",
        "  \"delinq_2yrs\",\n",
        "  \"earliest_cr_line\",\n",
        "  \"inq_last_6mths\",\n",
        "  \"open_acc\",\n",
        "  \"pub_rec\",\n",
        "  \"revol_bal\",\n",
        "  \"revol_util\",\n",
        "  \"total_acc\",\n",
        "  \"out_prncp\",\n",
        "  \"out_prncp_inv\",\n",
        "  \"total_pymnt\",\n",
        "  \"total_pymnt_inv\",\n",
        "  \"total_rec_prncp\",\n",
        "  \"total_rec_int\",\n",
        "  \"total_rec_late_fee\",\n",
        "  \"recoveries\",\n",
        "  \"collection_recovery_fee\",\n",
        "  \"last_pymnt_d\",\n",
        "  \"last_pymnt_amnt\",\n",
        "  \"last_credit_pull_d\",\n",
        "  \"application_type\"]\n",
        "behaviour_var"
      ],
      "execution_count": null,
      "outputs": [
        {
          "output_type": "execute_result",
          "data": {
            "text/plain": [
              "['delinq_2yrs',\n",
              " 'earliest_cr_line',\n",
              " 'inq_last_6mths',\n",
              " 'open_acc',\n",
              " 'pub_rec',\n",
              " 'revol_bal',\n",
              " 'revol_util',\n",
              " 'total_acc',\n",
              " 'out_prncp',\n",
              " 'out_prncp_inv',\n",
              " 'total_pymnt',\n",
              " 'total_pymnt_inv',\n",
              " 'total_rec_prncp',\n",
              " 'total_rec_int',\n",
              " 'total_rec_late_fee',\n",
              " 'recoveries',\n",
              " 'collection_recovery_fee',\n",
              " 'last_pymnt_d',\n",
              " 'last_pymnt_amnt',\n",
              " 'last_credit_pull_d',\n",
              " 'application_type']"
            ]
          },
          "metadata": {
            "tags": []
          },
          "execution_count": 21
        }
      ]
    },
    {
      "cell_type": "code",
      "metadata": {
        "id": "SPYX4884G8Oc",
        "colab_type": "code",
        "colab": {
          "base_uri": "https://localhost:8080/",
          "height": 680
        },
        "outputId": "2c7867be-041f-422d-e569-76ef310f1727"
      },
      "source": [
        "# let's now remove the behaviour variables from analysis\n",
        "df = loan.drop(behaviour_var, axis=1)\n",
        "df.info()"
      ],
      "execution_count": null,
      "outputs": [
        {
          "output_type": "stream",
          "text": [
            "<class 'pandas.core.frame.DataFrame'>\n",
            "Int64Index: 38642 entries, 0 to 39716\n",
            "Data columns (total 32 columns):\n",
            " #   Column                      Non-Null Count  Dtype  \n",
            "---  ------                      --------------  -----  \n",
            " 0   id                          38642 non-null  int64  \n",
            " 1   member_id                   38642 non-null  int64  \n",
            " 2   loan_amnt                   38642 non-null  int64  \n",
            " 3   funded_amnt                 38642 non-null  int64  \n",
            " 4   funded_amnt_inv             38642 non-null  float64\n",
            " 5   term                        38642 non-null  object \n",
            " 6   int_rate                    38642 non-null  float64\n",
            " 7   installment                 38642 non-null  float64\n",
            " 8   grade                       38642 non-null  object \n",
            " 9   sub_grade                   38642 non-null  object \n",
            " 10  emp_title                   37202 non-null  object \n",
            " 11  emp_length                  38642 non-null  int64  \n",
            " 12  home_ownership              38642 non-null  object \n",
            " 13  annual_inc                  38642 non-null  float64\n",
            " 14  verification_status         38642 non-null  object \n",
            " 15  issue_d                     38642 non-null  object \n",
            " 16  loan_status                 38642 non-null  object \n",
            " 17  pymnt_plan                  38642 non-null  object \n",
            " 18  url                         38642 non-null  object \n",
            " 19  purpose                     38642 non-null  object \n",
            " 20  title                       38632 non-null  object \n",
            " 21  zip_code                    38642 non-null  object \n",
            " 22  addr_state                  38642 non-null  object \n",
            " 23  dti                         38642 non-null  float64\n",
            " 24  initial_list_status         38642 non-null  object \n",
            " 25  collections_12_mths_ex_med  38586 non-null  float64\n",
            " 26  policy_code                 38642 non-null  int64  \n",
            " 27  acc_now_delinq              38642 non-null  int64  \n",
            " 28  chargeoff_within_12_mths    38586 non-null  float64\n",
            " 29  delinq_amnt                 38642 non-null  int64  \n",
            " 30  pub_rec_bankruptcies        37945 non-null  float64\n",
            " 31  tax_liens                   38603 non-null  float64\n",
            "dtypes: float64(9), int64(8), object(15)\n",
            "memory usage: 9.7+ MB\n"
          ],
          "name": "stdout"
        }
      ]
    },
    {
      "cell_type": "markdown",
      "metadata": {
        "id": "_O8vaw3RG8Oh",
        "colab_type": "text"
      },
      "source": [
        "Typically, variables such as acc_now_delinquent, chargeoff within 12 months etc. (which are related to the applicant's past loans) are available from the credit bureau. "
      ]
    },
    {
      "cell_type": "code",
      "metadata": {
        "id": "piUhN2JtG8Oi",
        "colab_type": "code",
        "colab": {}
      },
      "source": [
        "# also, we will not be able to use the variables zip code, address, state etc.\n",
        "# the variable 'title' is derived from the variable 'purpose'\n",
        "# thus let get rid of all these variables as well\n",
        "\n",
        "df = df.drop(['title', 'url', 'zip_code', 'addr_state'], axis=1)"
      ],
      "execution_count": null,
      "outputs": []
    },
    {
      "cell_type": "markdown",
      "metadata": {
        "id": "NNmBoitqG8On",
        "colab_type": "text"
      },
      "source": [
        "Next, let's have a look at the target variable - loan_status. We need to relabel the values to a binary form - 0 or 1, 1 indicating that the person has defaulted and 0 otherwise.\n",
        "\n"
      ]
    },
    {
      "cell_type": "code",
      "metadata": {
        "id": "Jj2H4_lmG8Oo",
        "colab_type": "code",
        "colab": {
          "base_uri": "https://localhost:8080/",
          "height": 85
        },
        "outputId": "0cb545b8-545a-4095-deeb-003de36c0c9b"
      },
      "source": [
        "df['loan_status'] = df['loan_status'].astype('category')\n",
        "df['loan_status'].value_counts()"
      ],
      "execution_count": null,
      "outputs": [
        {
          "output_type": "execute_result",
          "data": {
            "text/plain": [
              "Fully Paid     32145\n",
              "Charged Off     5399\n",
              "Current         1098\n",
              "Name: loan_status, dtype: int64"
            ]
          },
          "metadata": {
            "tags": []
          },
          "execution_count": 24
        }
      ]
    },
    {
      "cell_type": "markdown",
      "metadata": {
        "id": "2Felr8o7G8Ow",
        "colab_type": "text"
      },
      "source": [
        "You can see that fully paid comprises most of the loans. The ones marked 'current' are neither fully paid not defaulted, so let's get rid of the current loans. Also, let's tag the other two values as 0 or 1. "
      ]
    },
    {
      "cell_type": "code",
      "metadata": {
        "id": "97OyD_nwG8Ox",
        "colab_type": "code",
        "colab": {
          "base_uri": "https://localhost:8080/",
          "height": 68
        },
        "outputId": "0fba726f-6298-465c-b51d-f56dab520fd3"
      },
      "source": [
        "# filtering only fully paid or charged-off\n",
        "df = df[df['loan_status'] != 'Current']\n",
        "df['loan_status'] = df['loan_status'].apply(lambda x: 0 if x=='Fully Paid' else 1)\n",
        "\n",
        "# converting loan_status to integer type\n",
        "df['loan_status'] = df['loan_status'].apply(lambda x: pd.to_numeric(x))\n",
        "\n",
        "# summarising the values\n",
        "df['loan_status'].value_counts()"
      ],
      "execution_count": null,
      "outputs": [
        {
          "output_type": "execute_result",
          "data": {
            "text/plain": [
              "0    32145\n",
              "1     5399\n",
              "Name: loan_status, dtype: int64"
            ]
          },
          "metadata": {
            "tags": []
          },
          "execution_count": 25
        }
      ]
    },
    {
      "cell_type": "markdown",
      "metadata": {
        "id": "RODAFbaxG8O3",
        "colab_type": "text"
      },
      "source": [
        "Next, let's start with univariate analysis and then move to bivariate analysis.\n",
        "\n",
        "## Univariate Analysis\n",
        "\n",
        "First, let's look at the overall default rate.\n"
      ]
    },
    {
      "cell_type": "code",
      "metadata": {
        "id": "KMx4jK1QG8O4",
        "colab_type": "code",
        "colab": {
          "base_uri": "https://localhost:8080/",
          "height": 34
        },
        "outputId": "8656c6de-d5c0-4a9d-8baa-6fbf7e16ee48"
      },
      "source": [
        "# default rate\n",
        "round(np.mean(df['loan_status']), 2)"
      ],
      "execution_count": null,
      "outputs": [
        {
          "output_type": "execute_result",
          "data": {
            "text/plain": [
              "0.14"
            ]
          },
          "metadata": {
            "tags": []
          },
          "execution_count": 26
        }
      ]
    },
    {
      "cell_type": "markdown",
      "metadata": {
        "id": "66rsbUD-G8O_",
        "colab_type": "text"
      },
      "source": [
        "The overall default rate is about 14%.  "
      ]
    },
    {
      "cell_type": "markdown",
      "metadata": {
        "id": "2B-h_diRG8PA",
        "colab_type": "text"
      },
      "source": [
        "Let's first visualise the average default rates across categorical variables.\n"
      ]
    },
    {
      "cell_type": "code",
      "metadata": {
        "id": "594cLY3wG8PB",
        "colab_type": "code",
        "colab": {
          "base_uri": "https://localhost:8080/",
          "height": 279
        },
        "outputId": "b15460cc-6c2f-44c3-a0e5-56d6e2df23f8"
      },
      "source": [
        "# plotting default rates across grade of the loan\n",
        "sns.barplot(x='grade', y='loan_status', data=df)\n",
        "plt.show()"
      ],
      "execution_count": null,
      "outputs": [
        {
          "output_type": "display_data",
          "data": {
            "image/png": "[encoded data removed]",
            "text/plain": [
              "<Figure size 432x288 with 1 Axes>"
            ]
          },
          "metadata": {
            "tags": [],
            "needs_background": "light"
          }
        }
      ]
    },
    {
      "cell_type": "code",
      "metadata": {
        "id": "3dhNfu6lG8PG",
        "colab_type": "code",
        "colab": {}
      },
      "source": [
        "# lets define a function to plot loan_status across categorical variables\n",
        "def plot_cat(cat_var):\n",
        "    sns.barplot(x=cat_var, y='loan_status', data=df)\n",
        "    plt.show()\n",
        "    "
      ],
      "execution_count": null,
      "outputs": []
    },
    {
      "cell_type": "code",
      "metadata": {
        "id": "hZZWxLwkG8PM",
        "colab_type": "code",
        "colab": {
          "base_uri": "https://localhost:8080/",
          "height": 279
        },
        "outputId": "f35c9abc-2b1d-4456-a479-b3a68ca93de1"
      },
      "source": [
        "# compare default rates across grade of loan\n",
        "plot_cat('grade')"
      ],
      "execution_count": null,
      "outputs": [
        {
          "output_type": "display_data",
          "data": {
            "image/png": "[encoded data removed]",
            "text/plain": [
              "<Figure size 432x288 with 1 Axes>"
            ]
          },
          "metadata": {
            "tags": [],
            "needs_background": "light"
          }
        }
      ]
    },
    {
      "cell_type": "markdown",
      "metadata": {
        "id": "5gunMBTSG8PT",
        "colab_type": "text"
      },
      "source": [
        "Clearly, as the grade of loan goes from A to G, the default rate increases. This is expected because the grade is decided by Lending Club based on the riskiness of the loan. "
      ]
    },
    {
      "cell_type": "code",
      "metadata": {
        "id": "lzukX2ffG8PU",
        "colab_type": "code",
        "colab": {
          "base_uri": "https://localhost:8080/",
          "height": 279
        },
        "outputId": "464c976b-3e52-4515-f080-7102aa69bcdb"
      },
      "source": [
        "# term: 60 months loans default more than 36 months loans\n",
        "plot_cat('term')"
      ],
      "execution_count": null,
      "outputs": [
        {
          "output_type": "display_data",
          "data": {
            "image/png": "[encoded data removed]",
            "text/plain": [
              "<Figure size 432x288 with 1 Axes>"
            ]
          },
          "metadata": {
            "tags": [],
            "needs_background": "light"
          }
        }
      ]
    },
    {
      "cell_type": "code",
      "metadata": {
        "id": "psIuwCp4G8Pc",
        "colab_type": "code",
        "colab": {
          "base_uri": "https://localhost:8080/",
          "height": 388
        },
        "outputId": "b09bfd4d-c280-4ed0-db5c-9236bf8e31aa"
      },
      "source": [
        "# sub-grade: as expected - A1 is better than A2 better than A3 and so on \n",
        "plt.figure(figsize=(16, 6))\n",
        "plot_cat('sub_grade')"
      ],
      "execution_count": null,
      "outputs": [
        {
          "output_type": "display_data",
          "data": {
            "image/png": "[encoded data removed]",
            "text/plain": [
              "<Figure size 1152x432 with 1 Axes>"
            ]
          },
          "metadata": {
            "tags": [],
            "needs_background": "light"
          }
        }
      ]
    },
    {
      "cell_type": "code",
      "metadata": {
        "id": "ehNULTn0G8Pi",
        "colab_type": "code",
        "colab": {
          "base_uri": "https://localhost:8080/",
          "height": 280
        },
        "outputId": "29f9b3e1-2f0a-450c-9423-9f3198502152"
      },
      "source": [
        "# home ownership: not a great discriminator\n",
        "plot_cat('home_ownership')"
      ],
      "execution_count": null,
      "outputs": [
        {
          "output_type": "display_data",
          "data": {
            "image/png": "[encoded data removed]",
            "text/plain": [
              "<Figure size 432x288 with 1 Axes>"
            ]
          },
          "metadata": {
            "tags": [],
            "needs_background": "light"
          }
        }
      ]
    },
    {
      "cell_type": "code",
      "metadata": {
        "id": "JSU6OCrbG8Pp",
        "colab_type": "code",
        "colab": {
          "base_uri": "https://localhost:8080/",
          "height": 280
        },
        "outputId": "0fb89029-6657-4fd0-fb51-f7057a5f6c16"
      },
      "source": [
        "# verification_status: surprisingly, verified loans default more than not verifiedb\n",
        "plot_cat('verification_status')"
      ],
      "execution_count": null,
      "outputs": [
        {
          "output_type": "display_data",
          "data": {
            "image/png": "[encoded data removed]",
            "text/plain": [
              "<Figure size 432x288 with 1 Axes>"
            ]
          },
          "metadata": {
            "tags": [],
            "needs_background": "light"
          }
        }
      ]
    },
    {
      "cell_type": "code",
      "metadata": {
        "id": "Etgt-Ah2G8Pt",
        "colab_type": "code",
        "colab": {
          "base_uri": "https://localhost:8080/",
          "height": 385
        },
        "outputId": "ae5e95fc-37b1-4575-e7e1-26b13d25b79b"
      },
      "source": [
        "# purpose: small business loans defualt the most, then renewable energy and education\n",
        "plt.figure(figsize=(16, 6))\n",
        "plot_cat('purpose')"
      ],
      "execution_count": null,
      "outputs": [
        {
          "output_type": "display_data",
          "data": {
            "image/png": "[encoded data removed]",
            "text/plain": [
              "<Figure size 1152x432 with 1 Axes>"
            ]
          },
          "metadata": {
            "tags": [],
            "needs_background": "light"
          }
        }
      ]
    },
    {
      "cell_type": "code",
      "metadata": {
        "id": "By4np5zyG8Px",
        "colab_type": "code",
        "colab": {
          "base_uri": "https://localhost:8080/",
          "height": 119
        },
        "outputId": "e17f11df-6fa7-4720-e538-f1e0624f7cfd"
      },
      "source": [
        "# let's also observe the distribution of loans across years\n",
        "# first lets convert the year column into datetime and then extract year and month from it\n",
        "df['issue_d'].head()"
      ],
      "execution_count": null,
      "outputs": [
        {
          "output_type": "execute_result",
          "data": {
            "text/plain": [
              "0    Dec-11\n",
              "1    Dec-11\n",
              "2    Dec-11\n",
              "3    Dec-11\n",
              "5    Dec-11\n",
              "Name: issue_d, dtype: object"
            ]
          },
          "metadata": {
            "tags": []
          },
          "execution_count": 37
        }
      ]
    },
    {
      "cell_type": "code",
      "metadata": {
        "id": "KUgSGWaJG8P4",
        "colab_type": "code",
        "colab": {}
      },
      "source": [
        "from datetime import datetime\n",
        "df['issue_d'] = df['issue_d'].apply(lambda x: datetime.strptime(x, '%b-%y'))\n"
      ],
      "execution_count": null,
      "outputs": []
    },
    {
      "cell_type": "code",
      "metadata": {
        "id": "TcnbLOtjG8P9",
        "colab_type": "code",
        "colab": {}
      },
      "source": [
        "# extracting month and year from issue_date\n",
        "df['month'] = df['issue_d'].apply(lambda x: x.month)\n",
        "df['year'] = df['issue_d'].apply(lambda x: x.year)\n",
        "\n",
        "\n"
      ],
      "execution_count": null,
      "outputs": []
    },
    {
      "cell_type": "code",
      "metadata": {
        "id": "EayxTVJaG8QC",
        "colab_type": "code",
        "colab": {
          "base_uri": "https://localhost:8080/",
          "height": 136
        },
        "outputId": "ee1fe791-efc3-434b-b896-3a7395311196"
      },
      "source": [
        "# let's first observe the number of loans granted across years\n",
        "df.groupby('year').year.count()"
      ],
      "execution_count": null,
      "outputs": [
        {
          "output_type": "execute_result",
          "data": {
            "text/plain": [
              "year\n",
              "2007      251\n",
              "2008     1562\n",
              "2009     4716\n",
              "2010    11214\n",
              "2011    19801\n",
              "Name: year, dtype: int64"
            ]
          },
          "metadata": {
            "tags": []
          },
          "execution_count": 40
        }
      ]
    },
    {
      "cell_type": "markdown",
      "metadata": {
        "id": "q7PtOjvBG8QF",
        "colab_type": "text"
      },
      "source": [
        "You can see that the number of loans has increased steadily across years. "
      ]
    },
    {
      "cell_type": "code",
      "metadata": {
        "id": "Ct2mKFUgG8QG",
        "colab_type": "code",
        "colab": {
          "base_uri": "https://localhost:8080/",
          "height": 255
        },
        "outputId": "e174a450-9a3a-45d4-dc6f-73e07dc7ca30"
      },
      "source": [
        "# number of loans across months\n",
        "df.groupby('month').month.count()"
      ],
      "execution_count": null,
      "outputs": [
        {
          "output_type": "execute_result",
          "data": {
            "text/plain": [
              "month\n",
              "1     2331\n",
              "2     2278\n",
              "3     2632\n",
              "4     2756\n",
              "5     2838\n",
              "6     3094\n",
              "7     3253\n",
              "8     3321\n",
              "9     3394\n",
              "10    3637\n",
              "11    3890\n",
              "12    4120\n",
              "Name: month, dtype: int64"
            ]
          },
          "metadata": {
            "tags": []
          },
          "execution_count": 41
        }
      ]
    },
    {
      "cell_type": "markdown",
      "metadata": {
        "id": "Tv4TwYneG8QP",
        "colab_type": "text"
      },
      "source": [
        "Most loans are granted in December, and in general in the latter half of the year."
      ]
    },
    {
      "cell_type": "code",
      "metadata": {
        "id": "KRy2M9isG8QR",
        "colab_type": "code",
        "colab": {
          "base_uri": "https://localhost:8080/",
          "height": 279
        },
        "outputId": "d4b5d989-7892-49f8-8daa-3cdceb0c9f11"
      },
      "source": [
        "# lets compare the default rates across years\n",
        "# the default rate had suddenly increased in 2011, inspite of reducing from 2008 till 2010\n",
        "plot_cat('year')"
      ],
      "execution_count": null,
      "outputs": [
        {
          "output_type": "display_data",
          "data": {
            "image/png": "[encoded data removed]",
            "text/plain": [
              "<Figure size 432x288 with 1 Axes>"
            ]
          },
          "metadata": {
            "tags": [],
            "needs_background": "light"
          }
        }
      ]
    },
    {
      "cell_type": "code",
      "metadata": {
        "id": "eiKBNUtKG8Qf",
        "colab_type": "code",
        "colab": {
          "base_uri": "https://localhost:8080/",
          "height": 384
        },
        "outputId": "ee718d49-94fe-4c55-b588-261467f97257"
      },
      "source": [
        "# comparing default rates across months: not much variation across months\n",
        "plt.figure(figsize=(16, 6))\n",
        "plot_cat('month')"
      ],
      "execution_count": null,
      "outputs": [
        {
          "output_type": "display_data",
          "data": {
            "image/png": "[encoded data removed]",
            "text/plain": [
              "<Figure size 1152x432 with 1 Axes>"
            ]
          },
          "metadata": {
            "tags": [],
            "needs_background": "light"
          }
        }
      ]
    },
    {
      "cell_type": "markdown",
      "metadata": {
        "id": "oseVYKszG8Qj",
        "colab_type": "text"
      },
      "source": [
        "Let's now analyse how the default rate varies across continuous variables."
      ]
    },
    {
      "cell_type": "code",
      "metadata": {
        "id": "HZ8dg1zhG8Qk",
        "colab_type": "code",
        "colab": {
          "base_uri": "https://localhost:8080/",
          "height": 280
        },
        "outputId": "eba19878-845c-4f24-de8a-f68f9d55e7a6"
      },
      "source": [
        "# loan amount: the median loan amount is around 10,000\n",
        "sns.distplot(df['loan_amnt'])\n",
        "plt.show()"
      ],
      "execution_count": null,
      "outputs": [
        {
          "output_type": "display_data",
          "data": {
            "image/png": "[encoded data removed]",
            "text/plain": [
              "<Figure size 432x288 with 1 Axes>"
            ]
          },
          "metadata": {
            "tags": [],
            "needs_background": "light"
          }
        }
      ]
    },
    {
      "cell_type": "markdown",
      "metadata": {
        "id": "J0hW78TaG8Qz",
        "colab_type": "text"
      },
      "source": [
        "The easiest way to analyse how default rates vary across continous variables is to bin the variables into discrete categories.\n",
        "\n",
        "Let's bin the loan amount variable into small, medium, high, very high."
      ]
    },
    {
      "cell_type": "code",
      "metadata": {
        "id": "n3wOk_1HG8Q2",
        "colab_type": "code",
        "colab": {}
      },
      "source": [
        "# binning loan amount\n",
        "def loan_amount(n):\n",
        "    if n < 5000:\n",
        "        return 'low'\n",
        "    elif n >=5000 and n < 15000:\n",
        "        return 'medium'\n",
        "    elif n >= 15000 and n < 25000:\n",
        "        return 'high'\n",
        "    else:\n",
        "        return 'very high'\n",
        "        \n",
        "df['loan_amnt'] = df['loan_amnt'].apply(lambda x: loan_amount(x))\n"
      ],
      "execution_count": null,
      "outputs": []
    },
    {
      "cell_type": "code",
      "metadata": {
        "id": "B2r18EOiG8RJ",
        "colab_type": "code",
        "colab": {
          "base_uri": "https://localhost:8080/",
          "height": 102
        },
        "outputId": "12a80090-840e-4944-9293-66058247a0d1"
      },
      "source": [
        "df['loan_amnt'].value_counts()"
      ],
      "execution_count": null,
      "outputs": [
        {
          "output_type": "execute_result",
          "data": {
            "text/plain": [
              "medium       20157\n",
              "high          7572\n",
              "low           7095\n",
              "very high     2720\n",
              "Name: loan_amnt, dtype: int64"
            ]
          },
          "metadata": {
            "tags": []
          },
          "execution_count": 46
        }
      ]
    },
    {
      "cell_type": "code",
      "metadata": {
        "id": "c4PaqWc8G8RR",
        "colab_type": "code",
        "colab": {
          "base_uri": "https://localhost:8080/",
          "height": 280
        },
        "outputId": "32637caa-a420-4b0a-fb31-19cce84f8a48"
      },
      "source": [
        "# let's compare the default rates across loan amount type\n",
        "# higher the loan amount, higher the default rate\n",
        "plot_cat('loan_amnt')"
      ],
      "execution_count": null,
      "outputs": [
        {
          "output_type": "display_data",
          "data": {
            "image/png": "[encoded data removed]",
            "text/plain": [
              "<Figure size 432x288 with 1 Axes>"
            ]
          },
          "metadata": {
            "tags": [],
            "needs_background": "light"
          }
        }
      ]
    },
    {
      "cell_type": "code",
      "metadata": {
        "id": "_r9-g0cTG8RZ",
        "colab_type": "code",
        "colab": {}
      },
      "source": [
        "# let's also convert funded amount invested to bins\n",
        "df['funded_amnt_inv'] = df['funded_amnt_inv'].apply(lambda x: loan_amount(x))"
      ],
      "execution_count": null,
      "outputs": []
    },
    {
      "cell_type": "code",
      "metadata": {
        "id": "QOzzTNaMG8Ri",
        "colab_type": "code",
        "colab": {
          "base_uri": "https://localhost:8080/",
          "height": 280
        },
        "outputId": "0eb3cc36-aad1-41d3-bc41-6e10617e645c"
      },
      "source": [
        "# funded amount invested\n",
        "plot_cat('funded_amnt_inv')"
      ],
      "execution_count": null,
      "outputs": [
        {
          "output_type": "display_data",
          "data": {
            "image/png": "[encoded data removed]",
            "text/plain": [
              "<Figure size 432x288 with 1 Axes>"
            ]
          },
          "metadata": {
            "tags": [],
            "needs_background": "light"
          }
        }
      ]
    },
    {
      "cell_type": "code",
      "metadata": {
        "id": "lQ_8K8k8G8Ro",
        "colab_type": "code",
        "colab": {}
      },
      "source": [
        "# lets also convert interest rate to low, medium, high\n",
        "# binning loan amount\n",
        "def int_rate(n):\n",
        "    if n <= 10:\n",
        "        return 'low'\n",
        "    elif n > 10 and n <=15:\n",
        "        return 'medium'\n",
        "    else:\n",
        "        return 'high'\n",
        "    \n",
        "    \n",
        "df['int_rate'] = df['int_rate'].apply(lambda x: int_rate(x))"
      ],
      "execution_count": null,
      "outputs": []
    },
    {
      "cell_type": "code",
      "metadata": {
        "id": "dNjTiVr0G8R9",
        "colab_type": "code",
        "colab": {
          "base_uri": "https://localhost:8080/",
          "height": 280
        },
        "outputId": "f8cdd1f6-1bf4-4500-ece5-144759e90bf6"
      },
      "source": [
        "# comparing default rates across rates of interest\n",
        "# high interest rates default more, as expected\n",
        "plot_cat('int_rate')"
      ],
      "execution_count": null,
      "outputs": [
        {
          "output_type": "display_data",
          "data": {
            "image/png": "[encoded data removed]",
            "text/plain": [
              "<Figure size 432x288 with 1 Axes>"
            ]
          },
          "metadata": {
            "tags": [],
            "needs_background": "light"
          }
        }
      ]
    },
    {
      "cell_type": "code",
      "metadata": {
        "id": "O1mGP3YbG8SI",
        "colab_type": "code",
        "colab": {}
      },
      "source": [
        "# debt to income ratio\n",
        "def dti(n):\n",
        "    if n <= 10:\n",
        "        return 'low'\n",
        "    elif n > 10 and n <=20:\n",
        "        return 'medium'\n",
        "    else:\n",
        "        return 'high'\n",
        "    \n",
        "\n",
        "df['dti'] = df['dti'].apply(lambda x: dti(x))"
      ],
      "execution_count": null,
      "outputs": []
    },
    {
      "cell_type": "code",
      "metadata": {
        "id": "tj-0MdU4G8SU",
        "colab_type": "code",
        "colab": {
          "base_uri": "https://localhost:8080/",
          "height": 279
        },
        "outputId": "6d038562-55ee-4ae2-c654-8e1f4b06259e"
      },
      "source": [
        "# comparing default rates across debt to income ratio\n",
        "# high dti translates into higher default rates, as expected\n",
        "plot_cat('dti')"
      ],
      "execution_count": null,
      "outputs": [
        {
          "output_type": "display_data",
          "data": {
            "image/png": "[encoded data removed]",
            "text/plain": [
              "<Figure size 432x288 with 1 Axes>"
            ]
          },
          "metadata": {
            "tags": [],
            "needs_background": "light"
          }
        }
      ]
    },
    {
      "cell_type": "code",
      "metadata": {
        "id": "XSuJHbpuG8S0",
        "colab_type": "code",
        "colab": {}
      },
      "source": [
        "# funded amount\n",
        "def funded_amount(n):\n",
        "    if n <= 5000:\n",
        "        return 'low'\n",
        "    elif n > 5000 and n <=15000:\n",
        "        return 'medium'\n",
        "    else:\n",
        "        return 'high'\n",
        "    \n",
        "df['funded_amnt'] = df['funded_amnt'].apply(lambda x: funded_amount(x))"
      ],
      "execution_count": null,
      "outputs": []
    },
    {
      "cell_type": "code",
      "metadata": {
        "id": "jHlQH4i8G8T8",
        "colab_type": "code",
        "colab": {
          "base_uri": "https://localhost:8080/",
          "height": 280
        },
        "outputId": "0dbce2ff-ed59-4b1d-cbdc-cb0c2fb44273"
      },
      "source": [
        "plot_cat('funded_amnt')\n"
      ],
      "execution_count": null,
      "outputs": [
        {
          "output_type": "display_data",
          "data": {
            "image/png": "[encoded data removed]",
            "text/plain": [
              "<Figure size 432x288 with 1 Axes>"
            ]
          },
          "metadata": {
            "tags": [],
            "needs_background": "light"
          }
        }
      ]
    },
    {
      "cell_type": "code",
      "metadata": {
        "id": "xUy37lf_G8UI",
        "colab_type": "code",
        "colab": {}
      },
      "source": [
        "# installment\n",
        "def installment(n):\n",
        "    if n <= 200:\n",
        "        return 'low'\n",
        "    elif n > 200 and n <=400:\n",
        "        return 'medium'\n",
        "    elif n > 400 and n <=600:\n",
        "        return 'high'\n",
        "    else:\n",
        "        return 'very high'\n",
        "    \n",
        "df['installment'] = df['installment'].apply(lambda x: installment(x))"
      ],
      "execution_count": null,
      "outputs": []
    },
    {
      "cell_type": "code",
      "metadata": {
        "id": "5AhBOHabG8UR",
        "colab_type": "code",
        "colab": {
          "base_uri": "https://localhost:8080/",
          "height": 279
        },
        "outputId": "7de0aeaa-423d-4f7a-835a-d91d3d426028"
      },
      "source": [
        "# comparing default rates across installment\n",
        "# the higher the installment amount, the higher the default rate\n",
        "plot_cat('installment')"
      ],
      "execution_count": null,
      "outputs": [
        {
          "output_type": "display_data",
          "data": {
            "image/png": "[encoded data removed]",
            "text/plain": [
              "<Figure size 432x288 with 1 Axes>"
            ]
          },
          "metadata": {
            "tags": [],
            "needs_background": "light"
          }
        }
      ]
    },
    {
      "cell_type": "code",
      "metadata": {
        "id": "XP20ZW9WG8VF",
        "colab_type": "code",
        "colab": {}
      },
      "source": [
        "# annual income\n",
        "def annual_income(n):\n",
        "    if n <= 50000:\n",
        "        return 'low'\n",
        "    elif n > 50000 and n <=100000:\n",
        "        return 'medium'\n",
        "    elif n > 100000 and n <=150000:\n",
        "        return 'high'\n",
        "    else:\n",
        "        return 'very high'\n",
        "\n",
        "df['annual_inc'] = df['annual_inc'].apply(lambda x: annual_income(x))"
      ],
      "execution_count": null,
      "outputs": []
    },
    {
      "cell_type": "code",
      "metadata": {
        "id": "67L5_84pG8VQ",
        "colab_type": "code",
        "colab": {
          "base_uri": "https://localhost:8080/",
          "height": 280
        },
        "outputId": "20de27b1-dc68-4925-bf66-bfc7a5522e40"
      },
      "source": [
        "# annual income and default rate\n",
        "# lower the annual income, higher the default rate\n",
        "plot_cat('annual_inc')"
      ],
      "execution_count": null,
      "outputs": [
        {
          "output_type": "display_data",
          "data": {
            "image/png": "[encoded data removed]",
            "text/plain": [
              "<Figure size 432x288 with 1 Axes>"
            ]
          },
          "metadata": {
            "tags": [],
            "needs_background": "light"
          }
        }
      ]
    },
    {
      "cell_type": "code",
      "metadata": {
        "id": "_xjEPMTEG8Vf",
        "colab_type": "code",
        "colab": {}
      },
      "source": [
        "# employment length\n",
        "# first, let's drop the missing value observations in emp length\n",
        "df = df[~df['emp_length'].isnull()]\n",
        "\n",
        "# binning the variable\n",
        "def emp_length(n):\n",
        "    if n <= 1:\n",
        "        return 'fresher'\n",
        "    elif n > 1 and n <=3:\n",
        "        return 'junior'\n",
        "    elif n > 3 and n <=7:\n",
        "        return 'senior'\n",
        "    else:\n",
        "        return 'expert'\n",
        "\n",
        "df['emp_length'] = df['emp_length'].apply(lambda x: emp_length(x))"
      ],
      "execution_count": null,
      "outputs": []
    },
    {
      "cell_type": "code",
      "metadata": {
        "id": "Gcqk1EgpG8Vt",
        "colab_type": "code",
        "colab": {
          "base_uri": "https://localhost:8080/",
          "height": 280
        },
        "outputId": "a96f2cfb-c547-4fef-e784-e3b1de65488b"
      },
      "source": [
        "# emp_length and default rate\n",
        "# not much of a predictor of default\n",
        "plot_cat('emp_length')"
      ],
      "execution_count": null,
      "outputs": [
        {
          "output_type": "display_data",
          "data": {
            "image/png": "[encoded data removed]",
            "text/plain": [
              "<Figure size 432x288 with 1 Axes>"
            ]
          },
          "metadata": {
            "tags": [],
            "needs_background": "light"
          }
        }
      ]
    },
    {
      "cell_type": "markdown",
      "metadata": {
        "id": "DF_LeMZUG8V9",
        "colab_type": "text"
      },
      "source": [
        "## Segmented Univariate Analysis\n",
        "\n",
        "We have now compared the default rates across various variables, and some of the important predictors are purpose of the loan, interest rate, annual income, grade etc.\n",
        "\n",
        "In the credit industry, one of the most important factors affecting default is the purpose of the loan - home loans perform differently than credit cards, credit cards are very different from debt condolidation loans etc. \n",
        "\n",
        "This comes from business understanding, though let's again have a look at the default rates across the purpose of the loan.\n"
      ]
    },
    {
      "cell_type": "code",
      "metadata": {
        "id": "X7WaAadlG8V-",
        "colab_type": "code",
        "colab": {
          "base_uri": "https://localhost:8080/",
          "height": 0
        },
        "outputId": "e818aaff-4980-407d-9a27-00c228bb2a21"
      },
      "source": [
        "# purpose: small business loans defualt the most, then renewable energy and education\n",
        "plt.figure(figsize=(16, 6))\n",
        "plot_cat('purpose')"
      ],
      "execution_count": 81,
      "outputs": [
        {
          "output_type": "display_data",
          "data": {
            "image/png": "[encoded data removed]",
            "text/plain": [
              "<Figure size 1152x432 with 1 Axes>"
            ]
          },
          "metadata": {
            "tags": [],
            "needs_background": "light"
          }
        }
      ]
    },
    {
      "cell_type": "markdown",
      "metadata": {
        "id": "3SUoHT72G8WN",
        "colab_type": "text"
      },
      "source": [
        "In the upcoming analyses, we will segment the loan applications across the purpose of the loan, since that is a variable affecting many other variables - the type of applicant, interest rate, income, and finally the default rate. "
      ]
    },
    {
      "cell_type": "code",
      "metadata": {
        "id": "HCbbH_HVG8WQ",
        "colab_type": "code",
        "colab": {
          "base_uri": "https://localhost:8080/",
          "height": 0
        },
        "outputId": "5216487a-e3f3-475b-d2b9-57510dc0c47c"
      },
      "source": [
        "# lets first look at the number of loans for each type (purpose) of the loan\n",
        "# most loans are debt consolidation (to repay otehr debts), then credit card, major purchase etc.\n",
        "plt.figure(figsize=(16, 6))\n",
        "sns.countplot(x='purpose', data=df)\n",
        "plt.show()"
      ],
      "execution_count": 82,
      "outputs": [
        {
          "output_type": "display_data",
          "data": {
            "image/png": "[encoded data removed]",
            "text/plain": [
              "<Figure size 1152x432 with 1 Axes>"
            ]
          },
          "metadata": {
            "tags": [],
            "needs_background": "light"
          }
        }
      ]
    },
    {
      "cell_type": "markdown",
      "metadata": {
        "id": "wlIJdp-KG8Wd",
        "colab_type": "text"
      },
      "source": [
        "Let's analyse the top 4 types of loans based on purpose: consolidation, credit card, home improvement and major purchase."
      ]
    },
    {
      "cell_type": "code",
      "metadata": {
        "id": "dhQgSdvvG8Wf",
        "colab_type": "code",
        "colab": {
          "base_uri": "https://localhost:8080/",
          "height": 0
        },
        "outputId": "b0e2bf26-b4e8-4d37-9837-043e1a68a163"
      },
      "source": [
        "# filtering the df for the 4 types of loans mentioned above\n",
        "main_purposes = [\"credit_card\",\"debt_consolidation\",\"home_improvement\",\"major_purchase\"]\n",
        "df = df[df['purpose'].isin(main_purposes)]\n",
        "df['purpose'].value_counts()"
      ],
      "execution_count": 83,
      "outputs": [
        {
          "output_type": "execute_result",
          "data": {
            "text/plain": [
              "debt_consolidation    17675\n",
              "credit_card            4899\n",
              "home_improvement       2785\n",
              "major_purchase         2080\n",
              "Name: purpose, dtype: int64"
            ]
          },
          "metadata": {
            "tags": []
          },
          "execution_count": 83
        }
      ]
    },
    {
      "cell_type": "code",
      "metadata": {
        "id": "Xez5e9NhG8Wv",
        "colab_type": "code",
        "colab": {
          "base_uri": "https://localhost:8080/",
          "height": 0
        },
        "outputId": "616fe4a5-019b-4fed-9737-c074b702ce94"
      },
      "source": [
        "# plotting number of loans by purpose \n",
        "sns.countplot(x=df['purpose'])\n",
        "plt.show()"
      ],
      "execution_count": 84,
      "outputs": [
        {
          "output_type": "display_data",
          "data": {
            "image/png": "[encoded data removed]",
            "text/plain": [
              "<Figure size 432x288 with 1 Axes>"
            ]
          },
          "metadata": {
            "tags": [],
            "needs_background": "light"
          }
        }
      ]
    },
    {
      "cell_type": "code",
      "metadata": {
        "id": "POPdbSdaG8W3",
        "colab_type": "code",
        "colab": {
          "base_uri": "https://localhost:8080/",
          "height": 0
        },
        "outputId": "60d887dc-d142-4799-e03a-1ceac2ac8331"
      },
      "source": [
        "# let's now compare the default rates across two types of categorical variables\n",
        "# purpose of loan (constant) and another categorical variable (which changes)\n",
        "\n",
        "plt.figure(figsize=[10, 6])\n",
        "sns.barplot(x='term', y=\"loan_status\", hue='purpose', data=df)\n",
        "plt.show()\n"
      ],
      "execution_count": 85,
      "outputs": [
        {
          "output_type": "display_data",
          "data": {
            "image/png": "[encoded data removed]",
            "text/plain": [
              "<Figure size 720x432 with 1 Axes>"
            ]
          },
          "metadata": {
            "tags": [],
            "needs_background": "light"
          }
        }
      ]
    },
    {
      "cell_type": "code",
      "metadata": {
        "id": "H8N8G10IG8W-",
        "colab_type": "code",
        "colab": {
          "base_uri": "https://localhost:8080/",
          "height": 0
        },
        "outputId": "5b4a2fef-c8f6-4457-845a-bda6556ff265"
      },
      "source": [
        "# lets write a function which takes a categorical variable and plots the default rate\n",
        "# segmented by purpose \n",
        "\n",
        "def plot_segmented(cat_var):\n",
        "    plt.figure(figsize=(10, 6))\n",
        "    sns.barplot(x=cat_var, y='loan_status', hue='purpose', data=df)\n",
        "    plt.show()\n",
        "\n",
        "    \n",
        "plot_segmented('term')"
      ],
      "execution_count": 86,
      "outputs": [
        {
          "output_type": "display_data",
          "data": {
            "image/png": "[encoded data removed]",
            "text/plain": [
              "<Figure size 720x432 with 1 Axes>"
            ]
          },
          "metadata": {
            "tags": [],
            "needs_background": "light"
          }
        }
      ]
    },
    {
      "cell_type": "code",
      "metadata": {
        "id": "qc-sEkE0G8XF",
        "colab_type": "code",
        "colab": {
          "base_uri": "https://localhost:8080/",
          "height": 0
        },
        "outputId": "bf5a0684-4dc8-4842-82f4-3875eaed08dc"
      },
      "source": [
        "# grade of loan\n",
        "plot_segmented('grade')"
      ],
      "execution_count": 87,
      "outputs": [
        {
          "output_type": "display_data",
          "data": {
            "image/png": "[encoded data removed]",
            "text/plain": [
              "<Figure size 720x432 with 1 Axes>"
            ]
          },
          "metadata": {
            "tags": [],
            "needs_background": "light"
          }
        }
      ]
    },
    {
      "cell_type": "code",
      "metadata": {
        "id": "X1w-08DqG8Xh",
        "colab_type": "code",
        "colab": {
          "base_uri": "https://localhost:8080/",
          "height": 0
        },
        "outputId": "ff279770-4d94-48c8-c254-66e4195c1bd3"
      },
      "source": [
        "# home ownership\n",
        "plot_segmented('home_ownership')"
      ],
      "execution_count": 88,
      "outputs": [
        {
          "output_type": "display_data",
          "data": {
            "image/png": "[encoded data removed]",
            "text/plain": [
              "<Figure size 720x432 with 1 Axes>"
            ]
          },
          "metadata": {
            "tags": [],
            "needs_background": "light"
          }
        }
      ]
    },
    {
      "cell_type": "markdown",
      "metadata": {
        "id": "D_2voPH0G8Xo",
        "colab_type": "text"
      },
      "source": [
        "In general, debt consolidation loans have the highest default rates. Lets compare across other categories as well."
      ]
    },
    {
      "cell_type": "code",
      "metadata": {
        "id": "xjP7k93YG8Xo",
        "colab_type": "code",
        "colab": {
          "base_uri": "https://localhost:8080/",
          "height": 0
        },
        "outputId": "e5755c43-632d-41f0-bc0d-b3af97eae475"
      },
      "source": [
        "# year\n",
        "plot_segmented('year')"
      ],
      "execution_count": 89,
      "outputs": [
        {
          "output_type": "display_data",
          "data": {
            "image/png": "[encoded data removed]",
            "text/plain": [
              "<Figure size 720x432 with 1 Axes>"
            ]
          },
          "metadata": {
            "tags": [],
            "needs_background": "light"
          }
        }
      ]
    },
    {
      "cell_type": "code",
      "metadata": {
        "id": "JrVh1-raG8X7",
        "colab_type": "code",
        "colab": {
          "base_uri": "https://localhost:8080/",
          "height": 0
        },
        "outputId": "e710654f-0093-4127-d3c0-52974a7df171"
      },
      "source": [
        "# emp_length\n",
        "plot_segmented('emp_length')"
      ],
      "execution_count": 90,
      "outputs": [
        {
          "output_type": "display_data",
          "data": {
            "image/png": "[encoded data removed]",
            "text/plain": [
              "<Figure size 720x432 with 1 Axes>"
            ]
          },
          "metadata": {
            "tags": [],
            "needs_background": "light"
          }
        }
      ]
    },
    {
      "cell_type": "code",
      "metadata": {
        "id": "CrQxCdIWG8YD",
        "colab_type": "code",
        "colab": {
          "base_uri": "https://localhost:8080/",
          "height": 0
        },
        "outputId": "0465a89f-7e7f-439d-b5e7-b3f305186695"
      },
      "source": [
        "# loan_amnt: same trend across loan purposes\n",
        "plot_segmented('loan_amnt')"
      ],
      "execution_count": 91,
      "outputs": [
        {
          "output_type": "display_data",
          "data": {
            "image/png": "[encoded data removed]",
            "text/plain": [
              "<Figure size 720x432 with 1 Axes>"
            ]
          },
          "metadata": {
            "tags": [],
            "needs_background": "light"
          }
        }
      ]
    },
    {
      "cell_type": "code",
      "metadata": {
        "id": "rR9pDFIMG8YJ",
        "colab_type": "code",
        "colab": {
          "base_uri": "https://localhost:8080/",
          "height": 0
        },
        "outputId": "4ff44702-61cf-4f39-8563-122752ce875c"
      },
      "source": [
        "# interest rate\n",
        "plot_segmented('int_rate')"
      ],
      "execution_count": 92,
      "outputs": [
        {
          "output_type": "display_data",
          "data": {
            "image/png": "[encoded data removed]",
            "text/plain": [
              "<Figure size 720x432 with 1 Axes>"
            ]
          },
          "metadata": {
            "tags": [],
            "needs_background": "light"
          }
        }
      ]
    },
    {
      "cell_type": "code",
      "metadata": {
        "id": "eUqs-9hcG8YQ",
        "colab_type": "code",
        "colab": {
          "base_uri": "https://localhost:8080/",
          "height": 0
        },
        "outputId": "8c10c5c4-1792-4e57-8ace-9246d5fc8cf0"
      },
      "source": [
        "# installment\n",
        "plot_segmented('installment')"
      ],
      "execution_count": 93,
      "outputs": [
        {
          "output_type": "display_data",
          "data": {
            "image/png": "[encoded data removed]",
            "text/plain": [
              "<Figure size 720x432 with 1 Axes>"
            ]
          },
          "metadata": {
            "tags": [],
            "needs_background": "light"
          }
        }
      ]
    },
    {
      "cell_type": "code",
      "metadata": {
        "id": "LzLqYQDFG8YY",
        "colab_type": "code",
        "colab": {
          "base_uri": "https://localhost:8080/",
          "height": 0
        },
        "outputId": "ca7641b2-1fd9-4a36-be2a-3f99b5dee212"
      },
      "source": [
        "# debt to income ratio\n",
        "plot_segmented('dti')"
      ],
      "execution_count": 94,
      "outputs": [
        {
          "output_type": "display_data",
          "data": {
            "image/png": "[encoded data removed]",
            "text/plain": [
              "<Figure size 720x432 with 1 Axes>"
            ]
          },
          "metadata": {
            "tags": [],
            "needs_background": "light"
          }
        }
      ]
    },
    {
      "cell_type": "code",
      "metadata": {
        "id": "oqSJoQriG8Yd",
        "colab_type": "code",
        "colab": {
          "base_uri": "https://localhost:8080/",
          "height": 0
        },
        "outputId": "b524f529-f90e-4bec-e788-92d7fc4ecf01"
      },
      "source": [
        "# annual income\n",
        "plot_segmented('annual_inc')"
      ],
      "execution_count": 95,
      "outputs": [
        {
          "output_type": "display_data",
          "data": {
            "image/png": "[encoded data removed]",
            "text/plain": [
              "<Figure size 720x432 with 1 Axes>"
            ]
          },
          "metadata": {
            "tags": [],
            "needs_background": "light"
          }
        }
      ]
    },
    {
      "cell_type": "markdown",
      "metadata": {
        "id": "w88M8pAcG8Ym",
        "colab_type": "text"
      },
      "source": [
        "A good way to quantify th effect of a categorical variable on default rate is to see 'how much does the default rate vary across the categories'. \n",
        "\n",
        "Let's see an example using annual_inc as the categorical variable."
      ]
    },
    {
      "cell_type": "code",
      "metadata": {
        "id": "gZ1Jipf6G8Yq",
        "colab_type": "code",
        "colab": {
          "base_uri": "https://localhost:8080/",
          "height": 0
        },
        "outputId": "4b178466-8ea2-4aad-83a9-0f1bd46cf8bb"
      },
      "source": [
        "# variation of default rate across annual_inc\n",
        "df.groupby('annual_inc').loan_status.mean().sort_values(ascending=False)"
      ],
      "execution_count": 96,
      "outputs": [
        {
          "output_type": "execute_result",
          "data": {
            "text/plain": [
              "annual_inc\n",
              "low          0.157966\n",
              "medium       0.130075\n",
              "very high    0.101570\n",
              "high         0.097749\n",
              "Name: loan_status, dtype: float64"
            ]
          },
          "metadata": {
            "tags": []
          },
          "execution_count": 96
        }
      ]
    },
    {
      "cell_type": "code",
      "metadata": {
        "id": "BimwWwLvG8Yy",
        "colab_type": "code",
        "colab": {
          "base_uri": "https://localhost:8080/",
          "height": 0
        },
        "outputId": "42a26775-9766-40bc-e07b-b21eb75e85bb"
      },
      "source": [
        "# one can write a function which takes in a categorical variable and computed the average \n",
        "# default rate across the categories\n",
        "# It can also compute the 'difference between the highest and the lowest default rate' across the \n",
        "# categories, which is a decent metric indicating the effect of the varaible on default rate\n",
        "\n",
        "def diff_rate(cat_var):\n",
        "    default_rates = df.groupby(cat_var).loan_status.mean().sort_values(ascending=False)\n",
        "    return (round(default_rates, 2), round(default_rates[0] - default_rates[-1], 2))\n",
        "\n",
        "default_rates, diff = diff_rate('annual_inc')\n",
        "print(default_rates) \n",
        "print(diff)\n"
      ],
      "execution_count": 97,
      "outputs": [
        {
          "output_type": "stream",
          "text": [
            "annual_inc\n",
            "low          0.16\n",
            "medium       0.13\n",
            "very high    0.10\n",
            "high         0.10\n",
            "Name: loan_status, dtype: float64\n",
            "0.06\n"
          ],
          "name": "stdout"
        }
      ]
    },
    {
      "cell_type": "markdown",
      "metadata": {
        "id": "BeJxWMT-G8Y5",
        "colab_type": "text"
      },
      "source": [
        "Thus, there is a 6% increase in default rate as you go from high to low annual income. We can compute this difference for all the variables and roughly identify the ones that affect default rate the most."
      ]
    },
    {
      "cell_type": "code",
      "metadata": {
        "id": "E-As5lyLG8Y6",
        "colab_type": "code",
        "colab": {
          "base_uri": "https://localhost:8080/",
          "height": 0
        },
        "outputId": "7a8a6006-794e-4755-948b-871d2b7164b8"
      },
      "source": [
        "# filtering all the object type variables\n",
        "df_categorical = df.loc[:, df.dtypes == object]\n",
        "df_categorical['loan_status'] = df['loan_status']\n",
        "\n",
        "# Now, for each variable, we can compute the incremental diff in default rates\n",
        "print([i for i in df.columns])"
      ],
      "execution_count": 98,
      "outputs": [
        {
          "output_type": "stream",
          "text": [
            "['id', 'member_id', 'loan_amnt', 'funded_amnt', 'funded_amnt_inv', 'term', 'int_rate', 'installment', 'grade', 'sub_grade', 'emp_title', 'emp_length', 'home_ownership', 'annual_inc', 'verification_status', 'issue_d', 'loan_status', 'pymnt_plan', 'purpose', 'dti', 'initial_list_status', 'collections_12_mths_ex_med', 'policy_code', 'acc_now_delinq', 'chargeoff_within_12_mths', 'delinq_amnt', 'pub_rec_bankruptcies', 'tax_liens', 'month', 'year']\n"
          ],
          "name": "stdout"
        },
        {
          "output_type": "stream",
          "text": [
            "/usr/local/lib/python3.6/dist-packages/ipykernel_launcher.py:3: SettingWithCopyWarning: \n",
            "A value is trying to be set on a copy of a slice from a DataFrame.\n",
            "Try using .loc[row_indexer,col_indexer] = value instead\n",
            "\n",
            "See the caveats in the documentation: https://pandas.pydata.org/pandas-docs/stable/user_guide/indexing.html#returning-a-view-versus-a-copy\n",
            "  This is separate from the ipykernel package so we can avoid doing imports until\n"
          ],
          "name": "stderr"
        }
      ]
    },
    {
      "cell_type": "code",
      "metadata": {
        "id": "4Be784d1G8Y_",
        "colab_type": "code",
        "colab": {
          "base_uri": "https://localhost:8080/",
          "height": 0
        },
        "outputId": "f6758d95-7169-499d-95db-bca81158d96c"
      },
      "source": [
        "# storing the diff of default rates for each column in a dict\n",
        "d = {key: diff_rate(key)[1]*100 for key in df_categorical.columns if key != 'loan_status'}\n",
        "print(d)"
      ],
      "execution_count": 99,
      "outputs": [
        {
          "output_type": "stream",
          "text": [
            "{'loan_amnt': 7.000000000000001, 'funded_amnt': 5.0, 'funded_amnt_inv': 6.0, 'term': 15.0, 'int_rate': 19.0, 'installment': 3.0, 'grade': 27.0, 'sub_grade': 46.0, 'emp_title': 100.0, 'emp_length': 2.0, 'home_ownership': 16.0, 'annual_inc': 6.0, 'verification_status': 4.0, 'pymnt_plan': 0.0, 'purpose': 5.0, 'dti': 5.0, 'initial_list_status': 0.0}\n"
          ],
          "name": "stdout"
        }
      ]
    },
    {
      "cell_type": "code",
      "metadata": {
        "id": "jFf8JC_m2Mt_",
        "colab_type": "code",
        "colab": {}
      },
      "source": [
        ""
      ],
      "execution_count": 99,
      "outputs": []
    }
  ]
}